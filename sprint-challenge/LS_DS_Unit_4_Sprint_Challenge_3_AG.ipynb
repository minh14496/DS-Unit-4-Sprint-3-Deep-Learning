{
 "cells": [
  {
   "cell_type": "markdown",
   "metadata": {},
   "source": [
    "\n",
    "## Autograded Notebook (Canvas & CodeGrade)\n",
    "\n",
    "This notebook will be automatically graded. It is designed to test your answers and award points for the correct answers. Following the instructions for each Task carefully.\n",
    "Instructions\n",
    "\n",
    "- **Download** this notebook as you would any other ipynb file \n",
    "- **Upload** to Google Colab or work locally (if you have that set-up)\n",
    "- **Delete** `raise NotImplementedError()`\n",
    "\n",
    "- **Write** your code in the `# YOUR CODE HERE` space\n",
    "\n",
    "\n",
    "- **Execute** the Test cells that contain assert statements - these help you check your work (others contain hidden tests that will be checked when you submit through Canvas)\n",
    "\n",
    "- **Save** your notebook when you are finished\n",
    "- **Download** as a ipynb file (if working in Colab)\n",
    "- **Upload** your complete notebook to Canvas (there will be additional instructions in Slack and/or Canvas)\n",
    "\n"
   ]
  },
  {
   "cell_type": "markdown",
   "metadata": {},
   "source": [
    "# Major Neural Network Architectures Challenge\n",
    "## *Data Science Unit 4 Sprint 3 Challenge*\n",
    "\n",
    "In this sprint challenge, you'll explore some of the cutting edge of Deep Learning. This week we studied several famous neural network architectures: \n",
    "recurrent neural networks (RNNs), long short-term memory (LSTMs), convolutional neural networks (CNNs), and Autoencoders. In this sprint challenge, you will revisit these models. Remember, we are testing your knowledge of these architectures not your ability to fit a model with high accuracy. \n",
    "\n",
    "__*Caution:*__  these approaches can be pretty heavy computationally. All problems were designed so that you should be able to achieve results within at most 5-10 minutes of runtime locally, on AWS SageMaker, on Colab or on a comparable environment. If something is running longer, double check your approach!\n",
    "\n",
    "__*GridSearch:*__ CodeGrade will likely break if it is asked to run a gridsearch for a deep learning model (CodeGrade instances run on a single processor). So while you may choose to run a gridsearch locally to find the optimum hyper-parameter values for your model, please delete (or comment out) the gridsearch code and simply instantiate a model with the optimum parameter values to get the performance that you want out of your model prior to submission. \n",
    "\n",
    "\n",
    "## Challenge Objectives\n",
    "*You should be able to:*\n",
    "* <a href=\"#p1\">Part 1</a>: Train a LSTM classification model\n",
    "* <a href=\"#p2\">Part 2</a>: Utilize a pre-trained CNN for object detection\n",
    "* <a href=\"#p3\">Part 3</a>: Describe a use case for an autoencoder\n",
    "* <a href=\"#p4\">Part 4</a>: Describe yourself as a Data Science and elucidate your vision of AI\n",
    "\n",
    "____\n",
    "\n",
    "# (CodeGrade) Before you submit your notebook you must first\n",
    "\n",
    "1) Restart your notebook's Kernel\n",
    "\n",
    "2) Run all cells sequentially, from top to bottom, so that cell numbers are sequential numbers (i.e. 1,2,3,4,5...)\n",
    "- Easiest way to do this is to click on the **Cell** tab at the top of your notebook and select **Run All** from the drop down menu. \n",
    "\n",
    "3) If you have gridsearch code, now is when you either delete it or comment out that code so CodeGrade doesn't run it and crash. \n",
    "\n",
    "4) Read the directions in **Part 2** of this notebook for specific instructions on how to prep that section for CodeGrade.\n",
    "\n",
    "____"
   ]
  },
  {
   "cell_type": "markdown",
   "metadata": {
    "colab_type": "text",
    "id": "-5UwGRnJOmD4"
   },
   "source": [
    "<a id=\"p1\"></a>\n",
    "## Part 1 - LSTMs\n",
    "\n",
    "Use a LSTM to fit a multi-class classification model on Reuters news articles to distinguish topics of articles. The data is already encoded properly for use in a LSTM model. \n",
    "\n",
    "Your Tasks: \n",
    "- Use Keras to fit a predictive model, classifying news articles into topics. \n",
    "- Name your model as `model`\n",
    "- Use a `single hidden layer`\n",
    "- Use `sparse_categorical_crossentropy` as your loss function\n",
    "- Use `accuracy` as your metric\n",
    "- Report your overall score and accuracy\n",
    "- Due to resource concerns on CodeGrade, `set your model's epochs=1`\n",
    "\n",
    "For reference, the LSTM code we used in class will be useful. \n",
    "\n",
    "__*Note:*__  Focus on getting a running model, not on maxing accuracy with extreme data size or epoch numbers. Only revisit and push accuracy if you get everything else done! "
   ]
  },
  {
   "cell_type": "code",
   "execution_count": 1,
   "metadata": {
    "colab": {
     "base_uri": "https://localhost:8080/",
     "height": 1114
    },
    "colab_type": "code",
    "id": "DS-9ksWjoJit",
    "outputId": "0c3512e4-5cd4-4dc6-9cda-baf00c835f59"
   },
   "outputs": [],
   "source": [
    "# Import data (don't alter the code in this cell)\n",
    "from tensorflow.keras.datasets import reuters\n",
    "\n",
    "# Suppress some warnings from deprecated reuters.load_data\n",
    "import warnings\n",
    "warnings.filterwarnings('ignore')\n",
    "\n",
    "# Load data\n",
    "(X_train, y_train), (X_test, y_test) = reuters.load_data(num_words=None,\n",
    "                                                         skip_top=0,\n",
    "                                                         maxlen=None,\n",
    "                                                         test_split=0.2,\n",
    "                                                         seed=723812,\n",
    "                                                         start_char=1,\n",
    "                                                         oov_char=2,\n",
    "                                                         index_from=3)\n",
    "\n",
    "# Due to limited computational resources on CodeGrade, take the following subsample \n",
    "train_size = 1000\n",
    "X_train = X_train[:train_size]\n",
    "y_train = y_train[:train_size]"
   ]
  },
  {
   "cell_type": "code",
   "execution_count": 2,
   "metadata": {
    "colab": {
     "base_uri": "https://localhost:8080/",
     "height": 34
    },
    "colab_type": "code",
    "id": "fLKqFh8DovaN",
    "outputId": "64b0d621-7e74-4181-9116-406e8c518465"
   },
   "outputs": [
    {
     "name": "stdout",
     "output_type": "stream",
     "text": [
      "Iran is encoded as 779 in the data\n",
      "London is encoded as 544 in the data\n",
      "Words are encoded as numbers in our dataset.\n"
     ]
    }
   ],
   "source": [
    "# Demo of encoding\n",
    "word_index = reuters.get_word_index(path=\"reuters_word_index.json\")\n",
    "\n",
    "print(f\"Iran is encoded as {word_index['iran']} in the data\")\n",
    "print(f\"London is encoded as {word_index['london']} in the data\")\n",
    "print(\"Words are encoded as numbers in our dataset.\")"
   ]
  },
  {
   "cell_type": "code",
   "execution_count": 3,
   "metadata": {},
   "outputs": [],
   "source": [
    "# Imports (don't alter this code)\n",
    "from tensorflow.keras.preprocessing import sequence\n",
    "from tensorflow.keras.models import Sequential\n",
    "from tensorflow.keras.layers import Dense, Embedding, LSTM\n",
    "\n",
    "# DO NOT CHANGE THESE VALUES \n",
    "# Keras docs say that the + 1 is needed: https://keras.io/api/layers/core_layers/embedding/\n",
    "MAX_FEATURES = len(word_index.values()) + 1\n",
    "\n",
    "# maxlen is the length of each sequence (i.e. document length)\n",
    "MAXLEN = 200"
   ]
  },
  {
   "cell_type": "code",
   "execution_count": 4,
   "metadata": {
    "deletable": false,
    "nbgrader": {
     "cell_type": "code",
     "checksum": "36031ab4b52ab8412c65a71e101baaf5",
     "grade": false,
     "grade_id": "cell-471d7f5819bebff6",
     "locked": false,
     "schema_version": 3,
     "solution": true,
     "task": false
    }
   },
   "outputs": [],
   "source": [
    "# Pre-process your data by creating sequences \n",
    "# Save your transformed data to the same variable name:\n",
    "# example: X_train = some_transformation(X_train)\n",
    "\n",
    "X_train = sequence.pad_sequences(X_train, maxlen=MAXLEN)\n",
    "X_test = sequence.pad_sequences(X_test, maxlen=MAXLEN)"
   ]
  },
  {
   "cell_type": "code",
   "execution_count": 5,
   "metadata": {
    "deletable": false,
    "editable": false,
    "nbgrader": {
     "cell_type": "code",
     "checksum": "cef4a5ae6ec56bee0d3121c7d8d37f3e",
     "grade": true,
     "grade_id": "cell-b46c98c26266363a",
     "locked": true,
     "points": 1,
     "schema_version": 3,
     "solution": false,
     "task": false
    }
   },
   "outputs": [],
   "source": [
    "# Visible tests\n",
    "assert X_train.shape[1] == MAXLEN, \"Your train input sequences are the wrong length. Did you use the sequence import?\"\n",
    "assert X_test.shape[1] == MAXLEN, \"Your test input sequences are the wrong length. Did you use the sequence import?\""
   ]
  },
  {
   "cell_type": "markdown",
   "metadata": {},
   "source": [
    "### Create your model\n",
    "\n",
    "Make sure to follow these instructions (also listed above):\n",
    "- Name your model as `model`\n",
    "- Use a `single hidden layer`\n",
    "- Use `sparse_categorical_crossentropy` as your loss function\n",
    "- Use `accuracy` as your metric\n",
    "\n",
    "**Additional considerations**\n",
    "\n",
    "The number of nodes in your output layer should be equal to the number of **unique** values in the sequences you are training and testing on. For this text, that value is equal to 46.\n",
    "\n",
    "- Set the number of nodes in your output layer equal to 46"
   ]
  },
  {
   "cell_type": "code",
   "execution_count": 6,
   "metadata": {
    "deletable": false,
    "nbgrader": {
     "cell_type": "code",
     "checksum": "cc18fbac87183e4e19e0342541d5684b",
     "grade": false,
     "grade_id": "cell-5e7ea9089f827793",
     "locked": false,
     "schema_version": 3,
     "solution": true,
     "task": false
    }
   },
   "outputs": [
    {
     "name": "stdout",
     "output_type": "stream",
     "text": [
      "Model: \"sequential\"\n",
      "_________________________________________________________________\n",
      "Layer (type)                 Output Shape              Param #   \n",
      "=================================================================\n",
      "embedding (Embedding)        (None, None, 128)         3965440   \n",
      "_________________________________________________________________\n",
      "lstm (LSTM)                  (None, 128)               131584    \n",
      "_________________________________________________________________\n",
      "dense (Dense)                (None, 46)                5934      \n",
      "=================================================================\n",
      "Total params: 4,102,958\n",
      "Trainable params: 4,102,958\n",
      "Non-trainable params: 0\n",
      "_________________________________________________________________\n"
     ]
    }
   ],
   "source": [
    "# Build and complie your model here\n",
    "\n",
    "# Instantiate Sequential class\n",
    "model = Sequential()\n",
    "\n",
    "# create input layer \n",
    "# so each article gets transormed into a 30979 dim vector \n",
    "model.add(Embedding(MAX_FEATURES, 128))\n",
    "\n",
    "# create hidden layer \n",
    "model.add(LSTM(128, dropout=0.2, return_sequences=False))\n",
    "\n",
    "# create output layer\n",
    "model.add(Dense(46, activation=\"softmax\"))\n",
    "\n",
    "# compile model \n",
    "model.compile(loss=\"sparse_categorical_crossentropy\", optimizer=\"adam\", metrics=[\"accuracy\"])\n",
    "\n",
    "model.summary()"
   ]
  },
  {
   "cell_type": "code",
   "execution_count": 7,
   "metadata": {
    "deletable": false,
    "editable": false,
    "nbgrader": {
     "cell_type": "code",
     "checksum": "ff2e025e7744c0524ecebcb854ae632d",
     "grade": true,
     "grade_id": "cell-54f4676c642d2c94",
     "locked": true,
     "points": 1,
     "schema_version": 3,
     "solution": false,
     "task": false
    }
   },
   "outputs": [],
   "source": [
    "# Visible Test\n",
    "assert model.get_config()[\"layers\"][1][\"class_name\"] == \"Embedding\", \"Layer 1 should be an Embedding layer.\""
   ]
  },
  {
   "cell_type": "code",
   "execution_count": 8,
   "metadata": {
    "deletable": false,
    "editable": false,
    "nbgrader": {
     "cell_type": "code",
     "checksum": "cc9bb4e19f4d22eb6a243d76024fb637",
     "grade": true,
     "grade_id": "cell-974465c65fe51083",
     "locked": true,
     "points": 1,
     "schema_version": 3,
     "solution": false,
     "task": false
    }
   },
   "outputs": [],
   "source": [
    "# Hidden Test"
   ]
  },
  {
   "cell_type": "markdown",
   "metadata": {},
   "source": [
    "### Fit your model\n",
    "\n",
    "Now, fit the model that you built and compiled in the previous cells. Remember to set your `epochs=1`! "
   ]
  },
  {
   "cell_type": "code",
   "execution_count": 9,
   "metadata": {},
   "outputs": [
    {
     "data": {
      "text/plain": [
       "(1000, 200)"
      ]
     },
     "execution_count": 9,
     "metadata": {},
     "output_type": "execute_result"
    }
   ],
   "source": [
    "X_train.shape"
   ]
  },
  {
   "cell_type": "code",
   "execution_count": 10,
   "metadata": {
    "colab": {},
    "colab_type": "code",
    "deletable": false,
    "id": "_QVSlFEAqWJM",
    "nbgrader": {
     "cell_type": "code",
     "checksum": "214ed02cdf6fe3f25483d81c2f4dd09c",
     "grade": false,
     "grade_id": "cell-10c20c87933d059c",
     "locked": false,
     "schema_version": 3,
     "solution": true,
     "task": false
    }
   },
   "outputs": [
    {
     "name": "stdout",
     "output_type": "stream",
     "text": [
      "32/32 [==============================] - 8s 228ms/step - loss: 3.4105 - accuracy: 0.2387 - val_loss: 2.4183 - val_accuracy: 0.3664\n"
     ]
    }
   ],
   "source": [
    "# Fit your model here\n",
    "# REMEMBER to set epochs=1\n",
    "results_one_layer = model.fit(X_train, y_train, \n",
    "                      epochs=1, \n",
    "                      validation_data=(X_test,y_test))"
   ]
  },
  {
   "cell_type": "code",
   "execution_count": 11,
   "metadata": {
    "deletable": false,
    "editable": false,
    "nbgrader": {
     "cell_type": "code",
     "checksum": "ca6a93fe03cb86e1d3ba3d38fc848102",
     "grade": true,
     "grade_id": "cell-277a7dc0b08b9a29",
     "locked": true,
     "points": 1,
     "schema_version": 3,
     "solution": false,
     "task": false
    }
   },
   "outputs": [],
   "source": [
    "# Visible Test \n",
    "n_epochs = len(model.history.history[\"loss\"])\n",
    "assert n_epochs == 1, \"Verify that you set epochs to 1.\""
   ]
  },
  {
   "cell_type": "markdown",
   "metadata": {
    "deletable": false,
    "editable": false,
    "nbgrader": {
     "cell_type": "markdown",
     "checksum": "5035264cce6916dab4735e61ab5a92a0",
     "grade": false,
     "grade_id": "cell-e46402041c52cd24",
     "locked": true,
     "points": 0,
     "schema_version": 3,
     "solution": false,
     "task": true
    },
    "nteract": {
     "transient": {
      "deleting": false
     }
    }
   },
   "source": [
    "## Sequence Data Question\n",
    "#### *Describe the `pad_sequences` method used on the training dataset. What does it do? Why do you need it?*"
   ]
  },
  {
   "cell_type": "markdown",
   "metadata": {
    "deletable": false,
    "nbgrader": {
     "cell_type": "markdown",
     "checksum": "466921cbc36892fb12aa9a3f0c2424a3",
     "grade": true,
     "grade_id": "cell-92a7ebc76ad66f05",
     "locked": false,
     "points": 0,
     "schema_version": 3,
     "solution": true,
     "task": false
    }
   },
   "source": [
    "YOUR ANSWER HERE\\\n",
    "pad_sequencess use to standardize the lenght of news articles. articles that are longer than the maxlen will be truncated while articles that are shorter than maxlen are padded with 0.\\\n",
    "Because this LSTM model can't handle variable lenght samples, we need to standardize the lenght of news articles."
   ]
  },
  {
   "cell_type": "markdown",
   "metadata": {
    "deletable": false,
    "editable": false,
    "nbgrader": {
     "cell_type": "markdown",
     "checksum": "1162a5c137e05e13d9c1275bf89709c2",
     "grade": false,
     "grade_id": "cell-a7a697b125edb2b7",
     "locked": true,
     "points": 0,
     "schema_version": 3,
     "solution": false,
     "task": true
    },
    "nteract": {
     "transient": {
      "deleting": false
     }
    }
   },
   "source": [
    "## RNNs versus LSTMs\n",
    "#### *What are the primary motivations behind using Long-ShortTerm Memory Cell unit over traditional Recurrent Neural Networks?*"
   ]
  },
  {
   "cell_type": "markdown",
   "metadata": {
    "deletable": false,
    "nbgrader": {
     "cell_type": "markdown",
     "checksum": "e88cf9a290290a182ca8381c5055b218",
     "grade": true,
     "grade_id": "cell-bfe45496d78d39bb",
     "locked": false,
     "points": 0,
     "schema_version": 3,
     "solution": true,
     "task": false
    }
   },
   "source": [
    "YOUR ANSWER HERE\\\n",
    "RNN has limitations: it doesn't have long-term memory capacity to learn long input sequences and suffers from the vanishing gradient problem. LSTMs model is there to deal with the limitations."
   ]
  },
  {
   "cell_type": "markdown",
   "metadata": {
    "deletable": false,
    "editable": false,
    "nbgrader": {
     "cell_type": "markdown",
     "checksum": "72cdfd02468a598b328fef9d0fb2c449",
     "grade": false,
     "grade_id": "cell-ca70eabc807f8f52",
     "locked": true,
     "points": 0,
     "schema_version": 3,
     "solution": false,
     "task": true
    },
    "nteract": {
     "transient": {
      "deleting": false
     }
    }
   },
   "source": [
    "## RNN / LSTM Use Cases\n",
    "#### *Name and Describe 3 Use Cases of LSTMs or RNNs and why they are suited to that use case*"
   ]
  },
  {
   "cell_type": "markdown",
   "metadata": {
    "deletable": false,
    "nbgrader": {
     "cell_type": "markdown",
     "checksum": "91b3a655469df8a2d64e7c7c0c0aed02",
     "grade": true,
     "grade_id": "cell-eeaef2336d124b88",
     "locked": false,
     "points": 0,
     "schema_version": 3,
     "solution": true,
     "task": false
    }
   },
   "source": [
    "YOUR ANSWER HERE\\\n",
    "Text generation, Article classification, Time series( stock price, weather)\n",
    "Because An LSTMs maintains internal memory of earlier input, which is especially important when modeling sequences."
   ]
  },
  {
   "cell_type": "markdown",
   "metadata": {
    "colab_type": "text",
    "id": "yz0LCZd_O4IG"
   },
   "source": [
    "<a id=\"p2\"></a>\n",
    "## Part 2- CNNs\n",
    "\n",
    "### Find the Frog\n",
    "\n",
    "Time to play \"find the frog!\" Use Keras and [ResNet50v2](https://www.tensorflow.org/api_docs/python/tf/keras/applications/resnet_v2) (pre-trained) to detect which of the images with the `frog_images` subdirectory has a frog in it.\n",
    "\n",
    "<img align=\"left\" src=\"https://d3i6fh83elv35t.cloudfront.net/newshour/app/uploads/2017/03/GettyImages-654745934-1024x687.jpg\" width=400>"
   ]
  },
  {
   "cell_type": "markdown",
   "metadata": {
    "colab_type": "text",
    "id": "yz0LCZd_O4IG"
   },
   "source": [
    "The skimage function below will help you read in all the frog images into memory at once. You should use the preprocessing functions that come with ResnetV2, and you should also resize the images using scikit-image.\n",
    "\n",
    "### Reading in the images\n",
    "\n",
    "The code in the following cell will download the images to your notebook (either in your local Jupyter notebook or in Google colab)."
   ]
  },
  {
   "cell_type": "code",
   "execution_count": 12,
   "metadata": {},
   "outputs": [],
   "source": [
    "# Prep to import images (don't alter the code in this cell)\n",
    "import urllib.request\n",
    "\n",
    "# Text file of image URLs\n",
    "text_file = \"https://raw.githubusercontent.com/LambdaSchool/data-science-canvas-images/main/unit_4/sprint_challenge_files/frog_image_url.txt\"\n",
    "data = urllib.request.urlopen(text_file)\n",
    "\n",
    "# Create list of image URLs\n",
    "url_list = [] \n",
    "for line in data:\n",
    "    url_list.append(line.decode('utf-8'))"
   ]
  },
  {
   "cell_type": "code",
   "execution_count": 13,
   "metadata": {
    "colab": {
     "base_uri": "https://localhost:8080/",
     "height": 245
    },
    "colab_type": "code",
    "id": "whIqEWR236Af",
    "outputId": "7a74e30d-310d-4a3a-9ae4-5bf52d137bda"
   },
   "outputs": [
    {
     "name": "stdout",
     "output_type": "stream",
     "text": [
      "<class 'numpy.ndarray'>\n",
      "\n",
      "Each of the Images is a Different Size\n",
      "(2137, 1710, 3)\n",
      "(3810, 2856, 3)\n"
     ]
    }
   ],
   "source": [
    "# Import images (don't alter the code in this cell)\n",
    "\n",
    "from skimage.io import imread\n",
    "from skimage.transform import resize \n",
    "\n",
    "# instantiate list to hold images\n",
    "image_list = []\n",
    "\n",
    "### UNCOMMENT THE FOLLOWING CODE TO LOAD YOUR IMAGES\n",
    "\n",
    "#loop through URLs and load each image\n",
    "for url in url_list:\n",
    "    image_list.append(imread(url))\n",
    "\n",
    "## UNCOMMENT THE FOLLOWING CODE TO VIEW AN EXAMPLE IMAGE SIZE\n",
    "#What is an \"image\"?\n",
    "print(type(image_list[0]), end=\"\\n\\n\")\n",
    "\n",
    "print(\"Each of the Images is a Different Size\")\n",
    "print(image_list[0].shape)\n",
    "print(image_list[1].shape)"
   ]
  },
  {
   "cell_type": "markdown",
   "metadata": {
    "colab_type": "text",
    "id": "si5YfNqS50QU"
   },
   "source": [
    "### Run ResNet50v2\n",
    "\n",
    "Your goal is to validly run ResNet50v2 on the input images - don't worry about tuning or improving the model. You can print out or view the predictions in any way you see fit. In order to receive credit, you need to have made predictions at some point in the following cells.\n",
    "\n",
    "*Hint* - ResNet 50v2 doesn't just return \"frog\". The three labels it has for frogs are: `bullfrog, tree frog, tailed frog`\n",
    "\n",
    "**Autograded tasks**\n",
    "\n",
    "* Instantiate your ResNet 50v2 and save to a variable named `resnet_model`\n",
    "\n",
    "**Other tasks**\n",
    "* Re-size your images\n",
    "* Use `resnet_model` to predict if each image contains a frog\n",
    "* Decode your predictions\n",
    "* Hint: the lesson on CNNs will have some helpful code\n",
    "\n",
    "**Stretch goals***\n",
    "* Check for other things such as fish\n",
    "* Print out the image with its predicted label\n",
    "* Wrap everything nicely in well documented functions\n",
    "\n",
    "## Important note!\n",
    "\n",
    "To increase the chances that your notebook will run in CodeGrade, when you **submit** your notebook:\n",
    "\n",
    "* comment out the code where you load the images\n",
    "* comment out the code where you make the predictions\n",
    "* comment out any plots or image displays you create\n",
    "\n",
    "**MAKE SURE YOUR NOTEBOOK RUNS COMPLETELY BEFORE YOU SUBMIT!**"
   ]
  },
  {
   "cell_type": "code",
   "execution_count": 14,
   "metadata": {
    "colab": {},
    "colab_type": "code",
    "id": "FaT07ddW3nHz"
   },
   "outputs": [],
   "source": [
    "# Imports\n",
    "import numpy as np\n",
    "import matplotlib.pyplot as plt\n",
    "\n",
    "from tensorflow.keras.applications.resnet_v2 import ResNet50V2 # <-- pre-trained model \n",
    "from tensorflow.keras.preprocessing import image\n",
    "from tensorflow.keras.applications.resnet_v2 import preprocess_input, decode_predictions"
   ]
  },
  {
   "cell_type": "code",
   "execution_count": 15,
   "metadata": {
    "colab": {},
    "colab_type": "code",
    "deletable": false,
    "id": "FaT07ddW3nHz",
    "nbgrader": {
     "cell_type": "code",
     "checksum": "00c7d152b14a85442baaad9b9fcbbe15",
     "grade": false,
     "grade_id": "cell-2715a95f2bcdf3f8",
     "locked": false,
     "schema_version": 3,
     "solution": true,
     "task": false
    }
   },
   "outputs": [],
   "source": [
    "def process_img(img):\n",
    "    \"\"\"\n",
    "    Using tensorflow per-build image processor. \n",
    "\n",
    "    Returns processed image. \n",
    "    \"\"\"\n",
    "    return resize(img, (224, 224), anti_aliasing=True)"
   ]
  },
  {
   "cell_type": "code",
   "execution_count": 16,
   "metadata": {},
   "outputs": [],
   "source": [
    "# resize all images\n",
    "resize_list = []\n",
    "for img in image_list:\n",
    "    img = process_img(img)\n",
    "    resize_list.append(img)"
   ]
  },
  {
   "cell_type": "code",
   "execution_count": 17,
   "metadata": {},
   "outputs": [],
   "source": [
    "# Code from the CNN lecture might come in handy here! \n",
    "def img_frog(img):\n",
    "    \"\"\"\n",
    "    Imputs image into resnet50 pre-trained model \n",
    "    \n",
    "    ----\n",
    "    print the top 3 likely labels for the image (ranked by largest probability)\n",
    "    return the label that has highest probability \n",
    "    \"\"\"\n",
    "    # preprocess image\n",
    "    x = np.expand_dims(img.copy(), axis=0)\n",
    "    x = preprocess_input(x)\n",
    "    \n",
    "    # instantiate model\n",
    "    resnet_model = ResNet50V2(weights='imagenet')\n",
    "    \n",
    "    # get classification of image\n",
    "    features = resnet_model.predict(x)\n",
    "    \n",
    "    # docs: https://www.tensorflow.org/api_docs/python/tf/keras/applications/imagenet_utils/decode_predictions\n",
    "    results = decode_predictions(features, top=3)[0]\n",
    "    print(results)\n",
    "    \n",
    "    # return the label\n",
    "    return results[0][1]"
   ]
  },
  {
   "cell_type": "code",
   "execution_count": 18,
   "metadata": {
    "scrolled": false
   },
   "outputs": [
    {
     "name": "stdout",
     "output_type": "stream",
     "text": [
      "[('n03729826', 'matchstick', 0.04067315), ('n06359193', 'web_site', 0.029944604), ('n01930112', 'nematode', 0.027339716)]\n"
     ]
    }
   ],
   "source": [
    "label = img_frog(resize_list[5])"
   ]
  },
  {
   "cell_type": "code",
   "execution_count": 19,
   "metadata": {},
   "outputs": [
    {
     "data": {
      "image/png": "[encoded data removed]",
      "text/plain": [
       "<Figure size 432x288 with 1 Axes>"
      ]
     },
     "metadata": {
      "needs_background": "light"
     },
     "output_type": "display_data"
    }
   ],
   "source": [
    "fig, ax = plt.subplots()\n",
    "ax.imshow(resize_list[5])\n",
    "ax.set_title(f'{label}')\n",
    "ax.axis('off');"
   ]
  },
  {
   "cell_type": "code",
   "execution_count": null,
   "metadata": {
    "deletable": false,
    "editable": false,
    "nbgrader": {
     "cell_type": "code",
     "checksum": "dc052ce43e9c6139f9049a72613c53cb",
     "grade": true,
     "grade_id": "cell-6e0982cb9f7775ef",
     "locked": true,
     "points": 1,
     "schema_version": 3,
     "solution": false,
     "task": false
    }
   },
   "outputs": [],
   "source": [
    "# Visible test\n",
    "assert resnet_model.get_config()[\"name\"] == \"resnet50v2\", \"Did you instantiate the resnet model?\""
   ]
  },
  {
   "cell_type": "markdown",
   "metadata": {
    "colab_type": "text",
    "deletable": false,
    "editable": false,
    "id": "XEuhvSu7O5Rf",
    "nbgrader": {
     "cell_type": "markdown",
     "checksum": "07da5c698aa6b4bfc985abf74be530d0",
     "grade": false,
     "grade_id": "cell-98f795ea1478ba74",
     "locked": true,
     "points": 0,
     "schema_version": 3,
     "solution": false,
     "task": true
    }
   },
   "source": [
    "<a id=\"p3\"></a>\n",
    "## Part 3 - Autoencoders\n",
    "\n",
    "**Describe a use case for an autoencoder given that an autoencoder tries to predict its own input.**"
   ]
  },
  {
   "cell_type": "markdown",
   "metadata": {
    "deletable": false,
    "nbgrader": {
     "cell_type": "markdown",
     "checksum": "b9def07acfd8d9a0bb2fb9b3a9d20170",
     "grade": true,
     "grade_id": "cell-1ec34a8c8251db51",
     "locked": false,
     "points": 0,
     "schema_version": 3,
     "solution": true,
     "task": false
    }
   },
   "source": [
    "YOUR ANSWER HERE\\\n",
    "One of the use case is image denoising. You use autoencoders network to learn how to remove noise from the picture. In one of the assignment, we add noise to the number pictures and train Autoencoders network to denoise the noise images from the test set."
   ]
  },
  {
   "cell_type": "markdown",
   "metadata": {
    "colab_type": "text",
    "id": "626zYgjkO7Vq"
   },
   "source": [
    "<a id=\"p4\"></a>\n",
    "## Part 4 - More..."
   ]
  },
  {
   "cell_type": "markdown",
   "metadata": {
    "colab_type": "text",
    "deletable": false,
    "editable": false,
    "id": "__lDWfcUO8oo",
    "nbgrader": {
     "cell_type": "markdown",
     "checksum": "061b43713725ca6955ee708b4495d0df",
     "grade": false,
     "grade_id": "cell-75a20bfb51f81e3b",
     "locked": true,
     "points": 0,
     "schema_version": 3,
     "solution": false,
     "task": true
    }
   },
   "source": [
    "**Answer the following questions, with a target audience of a fellow Data Scientist:**\n",
    "\n",
    "- What do you consider your strongest area as a Data Scientist?\n",
    "- What area of Data Science would you most like to learn more about, and why?\n",
    "- Where do you think Data Science will be in 5 years?\n",
    "\n",
    "A few sentences per answer is fine - only elaborate if time allows."
   ]
  },
  {
   "cell_type": "markdown",
   "metadata": {
    "deletable": false,
    "nbgrader": {
     "cell_type": "markdown",
     "checksum": "7e4b53bf4d823ee49c9fcb0e91c0dae3",
     "grade": true,
     "grade_id": "cell-7133ec302afe51d8",
     "locked": false,
     "points": 0,
     "schema_version": 3,
     "solution": true,
     "task": false
    }
   },
   "source": [
    "YOUR ANSWER HERE\\\n",
    "* My strongest area as a Data Scientist is my python and sql skill\n",
    "* I would love to learn more about object detection. I want to build a project that detect people mouth movement and predict what they are talking about.\n",
    "* Data scientists are building model that can train and improve themselves.I don't know what will happen in 5 years but in 20 years I think we data scientist will be fired by our self-learned model."
   ]
  },
  {
   "cell_type": "markdown",
   "metadata": {
    "colab_type": "text",
    "id": "_Hoqe3mM_Mtc"
   },
   "source": [
    "## Congratulations! \n",
    "\n",
    "Thank you for your hard work, and [congratulations](https://giphy.com/embed/26xivLqkv86uJzqWk)!!! You've learned a lot, and you should proudly call yourself a Data Scientist.\n"
   ]
  }
 ],
 "metadata": {
  "accelerator": "GPU",
  "colab": {
   "collapsed_sections": [],
   "name": "LS_DS_Unit_4_Sprint_Challenge_4.ipynb",
   "provenance": [],
   "version": "0.3.2"
  },
  "kernel_info": {
   "name": "u4-s3-dnn"
  },
  "kernelspec": {
   "display_name": "Python 3",
   "language": "python",
   "name": "python3"
  },
  "language_info": {
   "codemirror_mode": {
    "name": "ipython",
    "version": 3
   },
   "file_extension": ".py",
   "mimetype": "text/x-python",
   "name": "python",
   "nbconvert_exporter": "python",
   "pygments_lexer": "ipython3",
   "version": "3.8.5"
  },
  "nteract": {
   "version": "0.22.4"
  }
 },
 "nbformat": 4,
 "nbformat_minor": 4
}
