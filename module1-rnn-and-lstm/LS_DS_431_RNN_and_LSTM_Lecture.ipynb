{
 "cells": [
  {
   "cell_type": "markdown",
   "metadata": {
    "id": "Ldr0HZ193GKb"
   },
   "source": [
    "Lambda School Data Science\n",
    "\n",
    "*Unit 4, Sprint 3, Module 1*\n",
    "\n",
    "---\n"
   ]
  },
  {
   "cell_type": "markdown",
   "metadata": {
    "id": "Et2y0gP7IM19"
   },
   "source": [
    "# Recurrent Neural Networks (RNNs) and Long Short Term Memory (LSTM) (Prepare)\n",
    "\n",
    "![](https://wiki.tum.de/download/attachments/22578349/GATES.gif?version=1&modificationDate=1486083227237&api=v2)"
   ]
  },
  {
   "cell_type": "markdown",
   "metadata": {
    "id": "-BOMScPtIM1-"
   },
   "source": [
    "## Learning Objectives\n",
    "- <a href=\"#p1\">Part 1: </a>Describe Neural Networks used for modeling sequences\n",
    "- <a href=\"#p2\">Part 2: </a>Apply a LSTM to a text generation problem using Keras"
   ]
  },
  {
   "cell_type": "markdown",
   "metadata": {
    "id": "_IizNKWLomoA"
   },
   "source": [
    "-----\n",
    "# Overview\n",
    "\n",
    "### Let's start with sequences \n",
    "\n",
    "A sequence is just any collection of numbers - order counts and repetition is allowed. \n",
    "\n",
    "Python lists are a good elemental example - `[1, 2, 2, -1]` is a valid list and is different from `[1, 2, -1, 2]`. \n",
    "\n",
    "What you might not be as familiar with are recusive numbers. For that, let's talk about a specific example, namely the **Fibonacci Sequence**.\n"
   ]
  },
  {
   "cell_type": "markdown",
   "metadata": {
    "id": "44QZgrPUe3-Y"
   },
   "source": [
    "# Neural Networks for Sequences (Learn)"
   ]
  },
  {
   "cell_type": "markdown",
   "metadata": {
    "id": "dX_WLYHrIM1_"
   },
   "source": [
    "\n",
    "\n",
    "Before we dive into the inner workings of an LSTM model, let's try to understand and appreciate the recusive relationships of numbers in both pure mathematics and in the physical reality in which we find ourselves embedded. \n",
    "\n",
    "\n",
    "As usually we take attempt to understand a concept from at least 3 different perspectives:\n",
    "- Algebraic\n",
    "- Geometric\n",
    "- Coding an example\n",
    "\n",
    "\n",
    "A [**recurrence relation**](https://en.wikipedia.org/wiki/Recurrence_relation) in math is an equation that uses recursion to define a sequence of numbers - a famous example is the Fibonacci numbers.\n",
    "\n",
    "Here is the algorithm for generating the numbers in the Fibonacci sequence: \n",
    "\n",
    "$$F_n = F_{n-1} + F_{n-2}$$\n",
    "\n",
    "You need a base case $F_0=1, F_1=1$ (i.e. a starting point) to get the sequence started and then from then on our the sequence is self-generating. \n",
    "\n",
    "So this means that we can start generating our sequence: \n",
    "\n",
    "$$F_0=1,~~  F_1=1 $$\n",
    "\n",
    "$$F_2 = F_{1} + F_{0} ~=~ 1 + 1 ~=~ 2$$\n",
    "\n",
    "Then\n",
    "\n",
    "$$F_3 = F_{2} + F_{1} ~=~ 2 + 1 ~=~ 3$$\n",
    "\n",
    "Then \n",
    "\n",
    "$$F_4 = F_{3} + F_{2} ~=~ 3 + 2 ~=~ 5$$\n",
    "\n",
    "Then \n",
    "\n",
    "$$F_5 = F_{4} + F_{3} ~=~ 5 + 3 ~=~ 8$$\n",
    "\n",
    "I hope you get the idea. \n",
    "\n",
    "Before we we code up this sequence, let's appreciate how important and ubiquitous it is in nature. \n",
    "\n",
    "![](http://www.davidbeahm.com/wp-content/uploads/2011/11/fibonacci-1024x637.jpg)\n",
    "\n",
    "\n",
    "![](https://i.pinimg.com/originals/32/d7/47/32d747bea24f4756dc4c5ffe61b36efd.jpg)\n",
    "\n",
    "![](https://i.pinimg.com/originals/f2/cb/34/f2cb3452dd774bab87bbee2b8a77d4bb.png)\n",
    "\n",
    "\n",
    "![](https://f4.bcbits.com/img/a3628582449_10.jpg)"
   ]
  },
  {
   "cell_type": "markdown",
   "metadata": {},
   "source": [
    "**Take Away:** \n",
    "- Recursive sequences are located everywhere in life - but we need to know what we're looking for and where to look for it. \n",
    "- Simply try to develop an appreciation for the connection between mathematics and all of physical reality. "
   ]
  },
  {
   "cell_type": "markdown",
   "metadata": {},
   "source": [
    "### Code up the Fibonacci Sequence\n",
    "Again, here is the algorithm for the Fibonacci numbers.  \n",
    "\n",
    "\n",
    "$$F_n = F_{n-1} + F_{n-2}$$\n",
    "\n",
    "\n",
    "You need a base case to get your sequence started. This time let  $F_0=0 ~\\text{and}~ F_1=1$. \n"
   ]
  },
  {
   "cell_type": "code",
   "execution_count": 2,
   "metadata": {},
   "outputs": [],
   "source": [
    "def fibo(n):\n",
    "    \"\"\"\n",
    "    Calculate and return the next number in the Fibonacci sequence\n",
    "    \n",
    "    Input\n",
    "    -----\n",
    "    n: int or float\n",
    "        The nth number in the sequence (think of it as an index for a list)\n",
    "        \n",
    "    Return\n",
    "    ------\n",
    "    F_n: int or float\n",
    "        the next number in the sequence generated from the previous two numbers in the sequence \n",
    "    \"\"\"\n",
    "    \n",
    "    if n <= 1:\n",
    "        # if n = 0, then return 0 \n",
    "        return n\n",
    "    else:\n",
    "        # this is the recursive part \n",
    "        # notice how the function is a function of itself!\n",
    "        #  F_n =       F_n-1 + F_n-2\n",
    "        return(fibo(n-1) + fibo(n-2))"
   ]
  },
  {
   "cell_type": "code",
   "execution_count": 3,
   "metadata": {
    "deletable": false,
    "nbgrader": {
     "cell_type": "code",
     "checksum": "d5757486eecafe9c2c1af5b428e482b3",
     "grade": false,
     "grade_id": "cell-b31ecb0aaf3ace76",
     "locked": false,
     "schema_version": 3,
     "solution": true,
     "task": false
    }
   },
   "outputs": [
    {
     "data": {
      "text/plain": [
       "[0, 1, 1, 2, 3, 5, 8, 13, 21, 34]"
      ]
     },
     "execution_count": 3,
     "metadata": {},
     "output_type": "execute_result"
    }
   ],
   "source": [
    "# generate a Fibonacci Sequence\n",
    "# let n be the length of our fibo seq\n",
    "n = 10\n",
    "[fibo(num) for num in range(n)]"
   ]
  },
  {
   "cell_type": "markdown",
   "metadata": {},
   "source": [
    "**Take Away:** \n",
    "\n",
    "Recursive algorithms have as input their previous output. In order words, the output at time step `t - 1`, becomes in the input in the following time step `t`. This is the key idea of that you should observe. Because it is this recursive behavior that is new to how we will think about neural networks, specifically the LSTM model. "
   ]
  },
  {
   "cell_type": "markdown",
   "metadata": {
    "id": "dX_WLYHrIM1_"
   },
   "source": [
    "-----\n",
    "\n",
    "## Introduction to Recursive Neural Networks (RNNs) \n",
    "\n",
    "\n",
    "The nice thing about spending time to understand the Fibonacci Sequence is that we can then `borrow the intuition` that we picked up to help us understand how the LSTM works. \n",
    "\n",
    "Different Recursive Neural Networks (RNNs) have this recursive loop in their architecture. The ML research community first created the following RNN model using the standard Fully-Connected Forward Feeding (FCFF) model: \n",
    "\n",
    "![](https://nerdthecoder.files.wordpress.com/2019/02/731df-0mrhhgabskajpbt21.png)\n",
    "\n",
    "`This type of RNN had severe limitations!` \n",
    "\n",
    "- It didn't have long-term memory capacity to learn long input sequences \n",
    "- It suffered from the [Vanishing Gradient Problem](https://en.wikipedia.org/wiki/Vanishing_gradient_problem).\n",
    "\n",
    "In response to these limitations, the ML research community created the LSTM model, which ditched the FCFF architecture and started using the following architecture:\n",
    "\n",
    "![Long short-term memory unit](https://upload.wikimedia.org/wikipedia/commons/thumb/6/63/Long_Short-Term_Memory.svg/1024px-Long_Short-Term_Memory.svg.png)\n",
    "\n",
    "Wow! Ok! There's a lot going on here, isn't there? Well, don't worry, we are going to break this model down bit-by-bit so we can understand what is happening. "
   ]
  },
  {
   "cell_type": "markdown",
   "metadata": {
    "id": "dX_WLYHrIM1_"
   },
   "source": [
    "_____\n",
    "\n",
    "\n",
    "## Theory of LSTM\n",
    "\n",
    "One of the simplist and clearest explanations of the LSTM model can be found [**here!**](https://colah.github.io/posts/2015-08-Understanding-LSTMs/) - a beautifully clear and concise explaination the model's archtecture and the mathematics. This link will serve as our main resouce for understanding how LSTMs work. \n",
    "\n",
    "Below are the equations for each of the gates that are explained in the article. \n",
    "\n",
    "Although, you will not be held responsible for the equations in any quiz, module assignment, or Sprint Challenge - it is still instructive to be exposed to them at least once.\n",
    "\n",
    "First thing to notice is that each gate equation (not the cell states) has the form of a perceptron. \n",
    "\n",
    "`Remember the perceptron?` It's the fundamental building block of neural networks - it's not going away! \n",
    "\n",
    "Once you understand that, it will hopefully become gradually clear that each gate is a perceptron with a different job to do. \n",
    "\n",
    "That's it. \n",
    "\n",
    "It's just 4 perceptrons, each with a different job to do. \n",
    "\n",
    "Fortunately, you already know about perceptrons (you built one from scratch in `Sprint 2 Module 1`). \n",
    "\n",
    "____\n",
    "\n",
    "### Gates in More Detail\n",
    "\n",
    "#### Forget Gate\n",
    "This neuron's job is to use the current input to learn what information the cell state should forget regarding long-term dependencies. \n",
    "\n",
    "\n",
    "$$f_t = \\sigma(W_f \\cdot [h_{t-1},x_t]~+~b_f)$$\n",
    "\n",
    "#### Input Gate\n",
    "This neuron's job is to use the current input to learn what new information to include in the cell state. \n",
    "\n",
    "\n",
    "$$i_t = \\sigma(W_i \\cdot [h_{t-1},x_t]~+~b_i)$$\n",
    "\n",
    "#### Candidate Cell State \n",
    "This neuron's job is to use the current input to create a candidate cell state.\n",
    "\n",
    "This new candidate cell state will be used to update the model's final cell state.\n",
    "\n",
    "$$\\tilde{C}_t = \\text{tanh}(W_C \\cdot [h_{t-1},x_t]~+~b_C)$$\n",
    "\n",
    "#### New Cell State\n",
    "This is where the candidate and old cell state are combined to create a new cell state.\n",
    "\n",
    "This is where output from the forget gate $f_t$ is used to scaled the old cell state\n",
    "\n",
    "- If $f_t$'s value is closer to 0.0, then less information from the previous cell state is retained.\n",
    "- If $f_t$'s value is closer to 1.0, then more information from the previous cell state is retained. \n",
    "\n",
    "\n",
    "This is also where the output of the input gate $i_t$ is used to scaled the candidate cell state. \n",
    "- If $i_t$'s value is closer to 0.0, then less information from the candidate cell state is retained\n",
    "- If $i_t$'s value is closer to 1.0, then more information from the candidate cell state is retained. \n",
    "\n",
    "Finally, you combine the two scaled cell states to form the new cell state of the model. \n",
    "\n",
    "It is $C_t$ that will be passed into the next training step and used by the output to make a final prediction. \n",
    "\n",
    "$$C_t = f_t*C_{t-1} + i_t*\\tilde{C}_t$$\n",
    "\n",
    "#### Output Gate\n",
    "This is where the actual output of the model is calcuated. \n",
    "\n",
    "The article denotes the model's pre-scaled output as $o_t$ and the scaled output as $h_t$. To be clear, it is $h_t$ that ultimately gets outputed as the model's final prediction. \n",
    "\n",
    "We are familiar with the notation $y$ to denote a model's prediction instead of using $h$. But they both mean the same thing - the model's final prediction. \n",
    "\n",
    "This neuron's job is to take the current input and make a prediction. \n",
    "\n",
    "$$o_t = \\sigma(W_o \\cdot [h_{t-1},x_t]~+~b_o)$$\n",
    "\n",
    "Next, the cell state is used to inform the final prediction. \n",
    "\n",
    "Recall that $o_t$ is output from a sigmoid activation function, so it's value is somewhere between 0 and 1. \n",
    "\n",
    "Which means that it is being used to scale $\\text{tanh}(C_t)$ which contains the current cell state. \n",
    "\n",
    "Recall the tanh curve and you'll see that tanh is scaling $C_t$ so that it's value lies between -1 and 1; this makes it possible to have positive and negative values for the model's output. Sigmoids don't allow for the posibility of negative values, but tanh does. \n",
    "\n",
    "$$h_t = o_t*\\text{tanh}(C_t)$$\n",
    "\n"
   ]
  },
  {
   "cell_type": "markdown",
   "metadata": {
    "id": "dX_WLYHrIM1_"
   },
   "source": [
    "_________\n",
    "\n",
    "### Today's Application of LSTMs\n",
    "\n",
    "So why are these cool? \n",
    "\n",
    "One particularly compelling application is actually not time series but language modeling - language is inherently ordered data (letters/words go one after another, and the order *matters*). [The Unreasonable Effectiveness of Recurrent Neural Networks](https://karpathy.github.io/2015/05/21/rnn-effectiveness/) is a famous and worth reading blog post on this topic.\n",
    "\n",
    "For our purposes, let's use TensorFlow and Keras to train RNNs with natural language. \n",
    "\n",
    "Resources:\n",
    "- https://github.com/keras-team/keras/blob/master/examples/imdb_lstm.py\n",
    "- https://keras.io/layers/recurrent/#lstm\n",
    "- http://adventuresinmachinelearning.com/keras-lstm-tutorial/\n",
    "\n",
    "Note that `tensorflow.contrib` [also has an implementation of RNN/LSTM](https://www.tensorflow.org/tutorials/sequences/recurrent)."
   ]
  },
  {
   "cell_type": "markdown",
   "metadata": {
    "id": "eWrQllf8WEd-"
   },
   "source": [
    "_____________\n",
    "\n",
    "\n",
    "## Follow Along\n",
    "\n",
    "Sequences come in many shapes and forms from stock prices to text. We'll focus on text, because modeling text as a sequence is a strength of Neural Networks. Let's start with a simple classification task using a TensorFlow tutorial. "
   ]
  },
  {
   "cell_type": "markdown",
   "metadata": {
    "id": "SSytcRhoIM2A"
   },
   "source": [
    "### RNN/LSTM Sentiment Classification with Keras"
   ]
  },
  {
   "cell_type": "code",
   "execution_count": 4,
   "metadata": {
    "colab": {
     "base_uri": "https://localhost:8080/"
    },
    "id": "Ti23G0gRe3kr",
    "outputId": "29e571de-a433-4d36-fd42-d204735bb807"
   },
   "outputs": [],
   "source": [
    "from __future__ import print_function\n",
    "\n",
    "from tensorflow.keras.preprocessing import sequence\n",
    "from tensorflow.keras.models import Sequential\n",
    "from tensorflow.keras.layers import Dense, Embedding, Bidirectional\n",
    "from tensorflow.keras.layers import LSTM\n",
    "from tensorflow.keras.datasets import imdb\n",
    "import numpy as np\n",
    "import pandas as pd"
   ]
  },
  {
   "cell_type": "code",
   "execution_count": 5,
   "metadata": {
    "colab": {
     "base_uri": "https://localhost:8080/"
    },
    "id": "Ti23G0gRe3kr",
    "outputId": "29e571de-a433-4d36-fd42-d204735bb807"
   },
   "outputs": [
    {
     "name": "stdout",
     "output_type": "stream",
     "text": [
      "Loading data...\n"
     ]
    },
    {
     "name": "stderr",
     "output_type": "stream",
     "text": [
      "<string>:6: VisibleDeprecationWarning: Creating an ndarray from ragged nested sequences (which is a list-or-tuple of lists-or-tuples-or ndarrays with different lengths or shapes) is deprecated. If you meant to do this, you must specify 'dtype=object' when creating the ndarray\n",
      "/Users/alexanderbarriga/opt/anaconda3/envs/py37/lib/python3.7/site-packages/tensorflow/python/keras/datasets/imdb.py:159: VisibleDeprecationWarning: Creating an ndarray from ragged nested sequences (which is a list-or-tuple of lists-or-tuples-or ndarrays with different lengths or shapes) is deprecated. If you meant to do this, you must specify 'dtype=object' when creating the ndarray\n",
      "  x_train, y_train = np.array(xs[:idx]), np.array(labels[:idx])\n"
     ]
    },
    {
     "name": "stdout",
     "output_type": "stream",
     "text": [
      "25000 train sequences\n",
      "25000 test sequences\n"
     ]
    },
    {
     "name": "stderr",
     "output_type": "stream",
     "text": [
      "/Users/alexanderbarriga/opt/anaconda3/envs/py37/lib/python3.7/site-packages/tensorflow/python/keras/datasets/imdb.py:160: VisibleDeprecationWarning: Creating an ndarray from ragged nested sequences (which is a list-or-tuple of lists-or-tuples-or ndarrays with different lengths or shapes) is deprecated. If you meant to do this, you must specify 'dtype=object' when creating the ndarray\n",
      "  x_test, y_test = np.array(xs[idx:]), np.array(labels[idx:])\n"
     ]
    }
   ],
   "source": [
    "# load in dataset \n",
    "\n",
    "max_features = 20000\n",
    "# cut texts after this number of words (among top max_features most common words)\n",
    "batch_size = 32\n",
    "\n",
    "print('Loading data...')\n",
    "(x_train, y_train), (x_test, y_test) = imdb.load_data(num_words=max_features)\n",
    "print(len(x_train), 'train sequences')\n",
    "print(len(x_test), 'test sequences')"
   ]
  },
  {
   "cell_type": "code",
   "execution_count": 7,
   "metadata": {},
   "outputs": [
    {
     "data": {
      "text/plain": [
       "(25000,)"
      ]
     },
     "execution_count": 7,
     "metadata": {},
     "output_type": "execute_result"
    }
   ],
   "source": [
    "# documentation on this data set here: https://www.tensorflow.org/api_docs/python/tf/keras/datasets/imdb/load_data\n",
    "# the values in the lists represents the token frequncy, so \"1\" means the most frequent token in the corpus \n",
    "# each list represents a movie review\n",
    "x_train.shape"
   ]
  },
  {
   "cell_type": "code",
   "execution_count": 11,
   "metadata": {},
   "outputs": [
    {
     "data": {
      "text/plain": [
       "2"
      ]
     },
     "execution_count": 11,
     "metadata": {},
     "output_type": "execute_result"
    }
   ],
   "source": [
    "# binary labels \n",
    "# 1 -> positive sentiment expressed in movie review\n",
    "# 0 -> negative sentiment expressed in movie review\n",
    "num_unique_labels = len(np.unique(y_train))\n",
    "num_unique_labels"
   ]
  },
  {
   "cell_type": "code",
   "execution_count": 13,
   "metadata": {
    "colab": {
     "base_uri": "https://localhost:8080/"
    },
    "deletable": false,
    "id": "c0awRJCnIM2G",
    "nbgrader": {
     "cell_type": "code",
     "checksum": "06de4d9b7986caa5aef6c537af138ee9",
     "grade": false,
     "grade_id": "cell-fb23c1d7d1168a73",
     "locked": false,
     "schema_version": 3,
     "solution": true,
     "task": false
    },
    "outputId": "cab328b7-9f86-4728-c62f-70deab2fa1f5"
   },
   "outputs": [],
   "source": [
    "# although there are some implmentations of LSTM models that can handle variable length samples, this is not one of those models\n",
    "# so we need to standardize the length of our movies\n",
    "# reviews that are longer than maxlen are truncated\n",
    "# reivewsd that are shorter than maxlen are padded with 0 (Or some other value that you provide)\n",
    "maxlen = 80\n",
    "x_train = sequence.pad_sequences(x_train, maxlen=maxlen)\n",
    "x_test = sequence.pad_sequences(x_test, maxlen=maxlen)"
   ]
  },
  {
   "cell_type": "markdown",
   "metadata": {},
   "source": [
    "### Build a 1 hidden layer LSTM language model"
   ]
  },
  {
   "cell_type": "code",
   "execution_count": 24,
   "metadata": {
    "colab": {
     "base_uri": "https://localhost:8080/"
    },
    "deletable": false,
    "id": "QD_NjHw-pcJS",
    "nbgrader": {
     "cell_type": "code",
     "checksum": "200cc0a64ca234e836bf8fe83a553143",
     "grade": false,
     "grade_id": "cell-9c285c5d84213905",
     "locked": false,
     "schema_version": 3,
     "solution": true,
     "task": false
    },
    "outputId": "321e2638-8e0b-43cd-fd0f-26b0d41a94ad"
   },
   "outputs": [
    {
     "name": "stdout",
     "output_type": "stream",
     "text": [
      "Model: \"sequential_3\"\n",
      "_________________________________________________________________\n",
      "Layer (type)                 Output Shape              Param #   \n",
      "=================================================================\n",
      "embedding_3 (Embedding)      (None, None, 128)         2560000   \n",
      "_________________________________________________________________\n",
      "lstm_1 (LSTM)                (None, 128)               131584    \n",
      "_________________________________________________________________\n",
      "dense_1 (Dense)              (None, 1)                 129       \n",
      "=================================================================\n",
      "Total params: 2,691,713\n",
      "Trainable params: 2,691,713\n",
      "Non-trainable params: 0\n",
      "_________________________________________________________________\n"
     ]
    }
   ],
   "source": [
    "# instantiate the sequential class \n",
    "model = Sequential()\n",
    "\n",
    "# create input layer (explicitly)\n",
    "# this layer identifies how many unique words appear in our dataset (i.e. 20,000 for us)\n",
    "# and creates a fixed sized input layer vector to structure our incoming article vectors\n",
    "# so each article gets transormed into a 20,000 dim vector (20,000 for us)\n",
    "model.add(Embedding(max_features, 128))\n",
    "\n",
    "# create hidden layer \n",
    "# this is where we are processing the sequential data \n",
    "model.add(LSTM(128, dropout=0.2, return_sequences=False))\n",
    "\n",
    "# create output layer\n",
    "# this is our classification layer\n",
    "# we need an activation function with a partial derivative that can be use\n",
    "# in Gradient Descent \n",
    "# we are using a sigmoid because this is a binary classification task\n",
    "model.add(Dense(1, activation=\"sigmoid\"))\n",
    "\n",
    "# compile model \n",
    "model.compile(loss=\"binary_crossentropy\", optimizer=\"adam\", metrics=[\"accuracy\"])\n",
    "\n",
    "model.summary()"
   ]
  },
  {
   "cell_type": "code",
   "execution_count": null,
   "metadata": {},
   "outputs": [],
   "source": [
    " 2560000/128 = 20000"
   ]
  },
  {
   "cell_type": "code",
   "execution_count": 26,
   "metadata": {},
   "outputs": [
    {
     "name": "stdout",
     "output_type": "stream",
     "text": [
      "Epoch 1/5\n",
      "98/98 [==============================] - 32s 325ms/step - loss: 0.4354 - accuracy: 0.8009 - val_loss: 0.3636 - val_accuracy: 0.8376\n",
      "Epoch 2/5\n",
      "98/98 [==============================] - 31s 314ms/step - loss: 0.2599 - accuracy: 0.8977 - val_loss: 0.3918 - val_accuracy: 0.8309\n",
      "Epoch 3/5\n",
      "98/98 [==============================] - 30s 303ms/step - loss: 0.1862 - accuracy: 0.9301 - val_loss: 0.4179 - val_accuracy: 0.8312\n",
      "Epoch 4/5\n",
      "98/98 [==============================] - 30s 310ms/step - loss: 0.1343 - accuracy: 0.9526 - val_loss: 0.4844 - val_accuracy: 0.8218\n",
      "Epoch 5/5\n",
      "98/98 [==============================] - 30s 303ms/step - loss: 0.1020 - accuracy: 0.9648 - val_loss: 0.5962 - val_accuracy: 0.8188\n"
     ]
    }
   ],
   "source": [
    "# train model weights \n",
    "results_one_layer = model.fit(x_train, y_train,\n",
    "                      batch_size=256, \n",
    "                      epochs=5, \n",
    "                      validation_data=(x_test,y_test), workers=10)"
   ]
  },
  {
   "cell_type": "markdown",
   "metadata": {},
   "source": [
    "### Build a 1 hidden layer Bidirectional LSTM language model\n",
    "\n",
    "A Bidirectional LSTM, or biLSTM, is a sequence processing model that consists of two LSTMs: **one taking the input in a forward direction**, and **the other in a backwards direction**. BiLSTMs effectively increase the amount of information available to the network, improving the context available to the algorithm (e.g. knowing what words immediately follow and precede a word in a sentence).\n",
    "\n",
    "![](https://miro.medium.com/max/764/1*6QnPUSv_t9BY9Fv8_aLb-Q.png)"
   ]
  },
  {
   "cell_type": "code",
   "execution_count": 27,
   "metadata": {
    "colab": {
     "base_uri": "https://localhost:8080/"
    },
    "deletable": false,
    "id": "cKyGb4TzIM2O",
    "nbgrader": {
     "cell_type": "code",
     "checksum": "b7058ca0b8f53f28530be9c93a8bef46",
     "grade": false,
     "grade_id": "cell-706b7be103484984",
     "locked": false,
     "schema_version": 3,
     "solution": true,
     "task": false
    },
    "outputId": "2cf2f039-ffc3-40e3-8810-e98b07240a3a"
   },
   "outputs": [
    {
     "name": "stdout",
     "output_type": "stream",
     "text": [
      "Model: \"sequential_4\"\n",
      "_________________________________________________________________\n",
      "Layer (type)                 Output Shape              Param #   \n",
      "=================================================================\n",
      "embedding_4 (Embedding)      (None, None, 128)         2560000   \n",
      "_________________________________________________________________\n",
      "bidirectional (Bidirectional (None, 256)               263168    \n",
      "_________________________________________________________________\n",
      "dense_2 (Dense)              (None, 1)                 257       \n",
      "=================================================================\n",
      "Total params: 2,823,425\n",
      "Trainable params: 2,823,425\n",
      "Non-trainable params: 0\n",
      "_________________________________________________________________\n"
     ]
    }
   ],
   "source": [
    "# as usual, we begin to build our model by instantiating a Sequential class \n",
    "model = Sequential()\n",
    "\n",
    "# input layer \n",
    "# we are explicitly declaring the input layer here by add an Embedding object \n",
    "model.add(Embedding(max_features, 128))\n",
    "\n",
    "# hidden layer 1 \n",
    "model.add(Bidirectional(LSTM(128, return_sequences=False)))\n",
    "\n",
    "# output layer \n",
    "model.add(Dense(1, activation='sigmoid'))\n",
    "\n",
    "model.compile(loss='binary_crossentropy',\n",
    "              optimizer='adam', \n",
    "              metrics=['accuracy'])\n",
    "\n",
    "model.summary()"
   ]
  },
  {
   "cell_type": "code",
   "execution_count": 29,
   "metadata": {},
   "outputs": [
    {
     "name": "stdout",
     "output_type": "stream",
     "text": [
      "Epoch 1/5\n",
      "98/98 [==============================] - 48s 487ms/step - loss: 0.4563 - accuracy: 0.7812 - val_loss: 0.3783 - val_accuracy: 0.8338\n",
      "Epoch 2/5\n",
      "98/98 [==============================] - 47s 485ms/step - loss: 0.2530 - accuracy: 0.9005 - val_loss: 0.3815 - val_accuracy: 0.8329\n",
      "Epoch 3/5\n",
      "98/98 [==============================] - 53s 546ms/step - loss: 0.1739 - accuracy: 0.9356 - val_loss: 0.3972 - val_accuracy: 0.8302\n",
      "Epoch 4/5\n",
      "98/98 [==============================] - 52s 537ms/step - loss: 0.1202 - accuracy: 0.9578 - val_loss: 0.5375 - val_accuracy: 0.8151\n",
      "Epoch 5/5\n",
      "98/98 [==============================] - 56s 570ms/step - loss: 0.0872 - accuracy: 0.9690 - val_loss: 0.5504 - val_accuracy: 0.8105\n"
     ]
    }
   ],
   "source": [
    "results_biLSTM = model.fit(x_train, y_train,\n",
    "                      batch_size=256, \n",
    "                      epochs=5, \n",
    "                      validation_data=(x_test,y_test), workers=10)"
   ]
  },
  {
   "cell_type": "code",
   "execution_count": 30,
   "metadata": {
    "colab": {
     "base_uri": "https://localhost:8080/",
     "height": 404
    },
    "id": "RZx3Zs7tIM2Q",
    "outputId": "9d7d2ffd-25c0-4e0c-844c-d2de69ceef8c"
   },
   "outputs": [
    {
     "data": {
      "image/png": "[encoded data removed]",
      "text/plain": [
       "<Figure size 720x432 with 1 Axes>"
      ]
     },
     "metadata": {
      "needs_background": "light"
     },
     "output_type": "display_data"
    }
   ],
   "source": [
    "# Plot training & validation loss values\n",
    "import matplotlib.pyplot as plt\n",
    "\n",
    "epoch_list = np.arange(1,6)\n",
    "\n",
    "plt.figure(figsize=(10,6))\n",
    "plt.grid()\n",
    "plt.xticks(epoch_list)\n",
    "# results for 1-layer lstm model\n",
    "plt.plot(epoch_list, results_one_layer.history['loss'], \"--\", label=\"1 layer Train\")\n",
    "plt.plot(epoch_list, results_one_layer.history['val_loss'], \"--\", label = \"1 layer Test\")\n",
    "\n",
    "# results for 3-layer lstm model\n",
    "plt.plot(epoch_list, results_biLSTM.history['loss'], label=\"biLSTM Train \")\n",
    "plt.plot(epoch_list, results_biLSTM.history['val_loss'], label = \"biLSTM Test\")\n",
    "plt.title('Model loss')\n",
    "plt.ylabel('Loss')\n",
    "plt.xlabel('Epoch')\n",
    "plt.legend()\n",
    "plt.show();"
   ]
  },
  {
   "cell_type": "markdown",
   "metadata": {
    "id": "L9Ps3CauIM2S"
   },
   "source": [
    "## Challenge\n",
    "\n",
    "You will be expected to use an Keras LSTM for a classicification task on the *Sprint Challenge*. "
   ]
  },
  {
   "cell_type": "markdown",
   "metadata": {
    "id": "7pETWPIe362y"
   },
   "source": [
    "--------\n",
    "# LSTM Text generation with Keras (Learn)"
   ]
  },
  {
   "cell_type": "markdown",
   "metadata": {},
   "source": [
    "Using sequential models to generate text data is a very popular application of recursive deep learning models. A couple of popular applications are [**chat bots**](https://hackernoon.com/deep-learning-chatbot-everything-you-need-to-know-r11jm30bc) and language translators such as [**google translate**](https://ai.googleblog.com/2020/06/recent-advances-in-google-translate.html). \n",
    "\n",
    "In order to properly build a chat bot or translater you need to use multiple lstm models in an encoder & decoder framwork known as a [**sequence 2 sequence model**](https://keras.io/examples/nlp/lstm_seq2seq/) .\n",
    "\n",
    "\n",
    "![](https://jeddy92.github.io/images/ts_intro/seq2seq_lang.png)\n",
    "\n",
    "Also, now a days, using a standard LSTM isn't enough. You also have to use a version of lstm seq2seq models known as [**transformers**](https://towardsdatascience.com/transformers-141e32e69591). Transformers give seq2seq models the capacity to pay attention to specific portions of the input sequence, the most relevent portion in order to make a prediction. Yes, that's right, humanity has figured out how to convert attention into an algorithm. Next stop, self-awareness! \n",
    "\n",
    "The above mentions of sequence 2 sequence models and transformers are for a larger contextual understanding of the landscape of language models and how LSTMs fit into this landscape. Although **we will cover the endcoder/decoder framework in a future lesson, transformers are outside the scope of Unit 4**. However, once you learn about LSTMs and encoder/decoder frameworks, you will have all necessary information to then go on and learn about transformers on your own. At that point, the only really new bit you'll be learning is the [**attention mechanism**](https://towardsdatascience.com/intuitive-understanding-of-attention-mechanism-in-deep-learning-6c9482aecf4f). \n",
    "\n",
    "\n",
    "As a first pass at text generation, we'll stick to standard LSTM models. "
   ]
  },
  {
   "cell_type": "markdown",
   "metadata": {
    "id": "BK-GrUGvIM2T"
   },
   "source": [
    "-----\n",
    "# Text Generation using LSTMs\n",
    "\n",
    "What else can we do with LSTMs? Since we're analyzing the *sequence*, we can do more than classify - we can *generate* text. I'ved pulled some news stories using [newspaper](https://github.com/codelucas/newspaper/).\n",
    "\n",
    "This example is drawn from the Keras [documentation](https://keras.io/examples/lstm_text_generation/)."
   ]
  },
  {
   "cell_type": "code",
   "execution_count": 31,
   "metadata": {
    "id": "q64qHEYIIM2U"
   },
   "outputs": [],
   "source": [
    "from tensorflow.keras.callbacks import LambdaCallback\n",
    "from tensorflow.keras.models import Sequential\n",
    "from tensorflow.keras.layers import Dense, LSTM\n",
    "\n",
    "import tensorflow as tf\n",
    "from tensorflow.keras.preprocessing import sequence\n",
    "\n",
    "import re\n",
    "import numpy as np\n",
    "import pandas as pd\n",
    "import random\n",
    "import sys\n",
    "import os"
   ]
  },
  {
   "cell_type": "code",
   "execution_count": 32,
   "metadata": {},
   "outputs": [],
   "source": [
    "# a custom data prep class that we'll be using \n",
    "from data_cleaning_toolkit_class import data_cleaning_toolkit"
   ]
  },
  {
   "cell_type": "code",
   "execution_count": 33,
   "metadata": {
    "colab": {
     "base_uri": "https://localhost:8080/",
     "height": 198
    },
    "id": "MxcXsdsSIM2W",
    "outputId": "33551ac0-14c9-4832-d4ee-143c1f2e2a1a"
   },
   "outputs": [
    {
     "data": {
      "text/html": [
       "<div>\n",
       "<style scoped>\n",
       "    .dataframe tbody tr th:only-of-type {\n",
       "        vertical-align: middle;\n",
       "    }\n",
       "\n",
       "    .dataframe tbody tr th {\n",
       "        vertical-align: top;\n",
       "    }\n",
       "\n",
       "    .dataframe thead th {\n",
       "        text-align: right;\n",
       "    }\n",
       "</style>\n",
       "<table border=\"1\" class=\"dataframe\">\n",
       "  <thead>\n",
       "    <tr style=\"text-align: right;\">\n",
       "      <th></th>\n",
       "      <th>article</th>\n",
       "    </tr>\n",
       "  </thead>\n",
       "  <tbody>\n",
       "    <tr>\n",
       "      <th>0</th>\n",
       "      <td>Contributing columnist\\n\\nThe House is on fire...</td>\n",
       "    </tr>\n",
       "    <tr>\n",
       "      <th>1</th>\n",
       "      <td>When President Trump announced his decision to...</td>\n",
       "    </tr>\n",
       "    <tr>\n",
       "      <th>10</th>\n",
       "      <td>Russian President Vladimir Putin speaks at a s...</td>\n",
       "    </tr>\n",
       "    <tr>\n",
       "      <th>100</th>\n",
       "      <td>“The Queen’s Speech” is designed to acknowledg...</td>\n",
       "    </tr>\n",
       "    <tr>\n",
       "      <th>101</th>\n",
       "      <td>Like an aging rock star, the president is now ...</td>\n",
       "    </tr>\n",
       "  </tbody>\n",
       "</table>\n",
       "</div>"
      ],
      "text/plain": [
       "                                               article\n",
       "0    Contributing columnist\\n\\nThe House is on fire...\n",
       "1    When President Trump announced his decision to...\n",
       "10   Russian President Vladimir Putin speaks at a s...\n",
       "100  “The Queen’s Speech” is designed to acknowledg...\n",
       "101  Like an aging rock star, the president is now ..."
      ]
     },
     "execution_count": 33,
     "metadata": {},
     "output_type": "execute_result"
    }
   ],
   "source": [
    "# load text data (articles)\n",
    "df = pd.read_json('https://raw.githubusercontent.com/LambdaSchool/DS-Unit-4-Sprint-3-Deep-Learning/main/module1-rnn-and-lstm/wp_articles.json')\n",
    "df.head()"
   ]
  },
  {
   "cell_type": "code",
   "execution_count": 35,
   "metadata": {
    "deletable": false,
    "nbgrader": {
     "cell_type": "code",
     "checksum": "54b3f47f5eeed6cf3fd9732ac8abf1e5",
     "grade": false,
     "grade_id": "cell-292d1e2b08c74976",
     "locked": false,
     "schema_version": 3,
     "solution": true,
     "task": false
    }
   },
   "outputs": [],
   "source": [
    "dctk = data_cleaning_toolkit()"
   ]
  },
  {
   "cell_type": "code",
   "execution_count": 37,
   "metadata": {
    "deletable": false,
    "nbgrader": {
     "cell_type": "code",
     "checksum": "b46715962d32c041b4849afdf6c87232",
     "grade": false,
     "grade_id": "cell-6a39513d81d87f1b",
     "locked": false,
     "schema_version": 3,
     "solution": true,
     "task": false
    }
   },
   "outputs": [],
   "source": [
    "df[\"clean_data\"]  = df.article.apply(dctk.clean_data)"
   ]
  },
  {
   "cell_type": "code",
   "execution_count": 43,
   "metadata": {},
   "outputs": [
    {
     "data": {
      "text/plain": [
       "'Contributing columnist\\n\\nThe House is on fire. And with each passing day, Donald Trump defiles the office of the president. If only past defrocked presidents could provide a roadmap for this firestorm.\\n\\nAndrew Johnson fought impeachment vigorously and survived removal, but never won reelection. Richard Nixon got in the way of justice, but eventually bowed to the rule of law, accepting his asterisk in the annals of history and resigning before certain removal. Bill Clinton expressed contrition, went on to complete his presidency with high approval ratings and has remained a popular former president.\\n\\nIf you care about democracy, the rule of law and nearly 250 years of constitutional governance, take heed. President Trump is no Clinton or Nixon, or even Johnson. He will not go quietly. It will be ugly. He will betray us and the rule of law in the process — defying subpoenas, withholding documents, blocking witnesses.\\n\\nThis presidency is fouled with disrespect for rules, boundaries and nor'"
      ]
     },
     "execution_count": 43,
     "metadata": {},
     "output_type": "execute_result"
    }
   ],
   "source": [
    "df.article.iloc[0][:1000]"
   ]
  },
  {
   "cell_type": "code",
   "execution_count": 44,
   "metadata": {},
   "outputs": [
    {
     "data": {
      "text/plain": [
       "'contributing columnistthe house is on fire and with each passing day donald trump defiles the office of the president if only past defrocked presidents could provide a roadmap for this firestormandrew johnson fought impeachment vigorously and survived removal but never won reelection richard nixon got in the way of justice but eventually bowed to the rule of law accepting his asterisk in the annals of history and resigning before certain removal bill clinton expressed contrition went on to complete his presidency with high approval ratings and has remained a popular former presidentif you care about democracy the rule of law and nearlyyears of constitutional governance take heed president trump is no clinton or nixon or even johnson he will not go quietly it will be ugly he will betray us and the rule of law in the processdefying subpoenas withholding documents blocking witnessesthis presidency is fouled with disrespect for rules boundaries and norms trump walked away from major agreem'"
      ]
     },
     "execution_count": 44,
     "metadata": {},
     "output_type": "execute_result"
    }
   ],
   "source": [
    "df.clean_data.iloc[0][:1000]"
   ]
  },
  {
   "cell_type": "code",
   "execution_count": 46,
   "metadata": {},
   "outputs": [],
   "source": [
    "# move clean data out of dataframe and into numpy array\n",
    "clean_data = df.clean_data.values"
   ]
  },
  {
   "cell_type": "code",
   "execution_count": 61,
   "metadata": {},
   "outputs": [],
   "source": [
    "# define length of articles by number of characters \n",
    "doc_len = 200"
   ]
  },
  {
   "cell_type": "code",
   "execution_count": 62,
   "metadata": {},
   "outputs": [
    {
     "name": "stdout",
     "output_type": "stream",
     "text": [
      "Created 168949 sequences.\n"
     ]
    }
   ],
   "source": [
    "# numerically encode documents\n",
    "dctk.create_char_sequences(clean_data, doc_len)"
   ]
  },
  {
   "cell_type": "code",
   "execution_count": 63,
   "metadata": {},
   "outputs": [],
   "source": [
    "# create X and Y split \n",
    "x, y = dctk.create_X_and_Y()"
   ]
  },
  {
   "cell_type": "code",
   "execution_count": 64,
   "metadata": {},
   "outputs": [],
   "source": [
    "# this is out encoded doc_term matrix\n",
    "dtm = dctk.sequences"
   ]
  },
  {
   "cell_type": "code",
   "execution_count": 65,
   "metadata": {},
   "outputs": [
    {
     "data": {
      "text/plain": [
       "168949"
      ]
     },
     "execution_count": 65,
     "metadata": {},
     "output_type": "execute_result"
    }
   ],
   "source": [
    "# number of seq samples \n",
    "len(dtm)"
   ]
  },
  {
   "cell_type": "code",
   "execution_count": 66,
   "metadata": {},
   "outputs": [
    {
     "data": {
      "text/plain": [
       "[23,\n",
       " 16,\n",
       " 9,\n",
       " 15,\n",
       " 19,\n",
       " 11,\n",
       " 26,\n",
       " 14,\n",
       " 15,\n",
       " 11,\n",
       " 9,\n",
       " 25,\n",
       " 13,\n",
       " 23,\n",
       " 16,\n",
       " 22,\n",
       " 14,\n",
       " 0,\n",
       " 9,\n",
       " 11,\n",
       " 7,\n",
       " 15,\n",
       " 15,\n",
       " 18,\n",
       " 10,\n",
       " 13,\n",
       " 18,\n",
       " 16,\n",
       " 14,\n",
       " 7,\n",
       " 10,\n",
       " 13,\n",
       " 11,\n",
       " 7,\n",
       " 13,\n",
       " 16,\n",
       " 9,\n",
       " 13,\n",
       " 5,\n",
       " 11,\n",
       " 19,\n",
       " 10,\n",
       " 13,\n",
       " 2,\n",
       " 9,\n",
       " 17,\n",
       " 13,\n",
       " 21,\n",
       " 11,\n",
       " 15,\n",
       " 18,\n",
       " 13,\n",
       " 10,\n",
       " 2,\n",
       " 23,\n",
       " 18,\n",
       " 13,\n",
       " 4,\n",
       " 2,\n",
       " 7,\n",
       " 7,\n",
       " 11,\n",
       " 9,\n",
       " 25,\n",
       " 13,\n",
       " 17,\n",
       " 2,\n",
       " 3,\n",
       " 13,\n",
       " 17,\n",
       " 16,\n",
       " 9,\n",
       " 2,\n",
       " 22,\n",
       " 17,\n",
       " 13,\n",
       " 15,\n",
       " 19,\n",
       " 14,\n",
       " 0,\n",
       " 4,\n",
       " 13,\n",
       " 17,\n",
       " 10,\n",
       " 5,\n",
       " 11,\n",
       " 22,\n",
       " 10,\n",
       " 7,\n",
       " 13,\n",
       " 15,\n",
       " 18,\n",
       " 10,\n",
       " 13,\n",
       " 16,\n",
       " 5,\n",
       " 5,\n",
       " 11,\n",
       " 23,\n",
       " 10,\n",
       " 13,\n",
       " 16,\n",
       " 5,\n",
       " 13,\n",
       " 15,\n",
       " 18,\n",
       " 10,\n",
       " 13,\n",
       " 4,\n",
       " 19,\n",
       " 10,\n",
       " 7,\n",
       " 11,\n",
       " 17,\n",
       " 10,\n",
       " 9,\n",
       " 15,\n",
       " 13,\n",
       " 11,\n",
       " 5,\n",
       " 13,\n",
       " 16,\n",
       " 9,\n",
       " 22,\n",
       " 3,\n",
       " 13,\n",
       " 4,\n",
       " 2,\n",
       " 7,\n",
       " 15,\n",
       " 13,\n",
       " 17,\n",
       " 10,\n",
       " 5,\n",
       " 19,\n",
       " 16,\n",
       " 23,\n",
       " 12,\n",
       " 10,\n",
       " 17,\n",
       " 13,\n",
       " 4,\n",
       " 19,\n",
       " 10,\n",
       " 7,\n",
       " 11,\n",
       " 17,\n",
       " 10,\n",
       " 9,\n",
       " 15,\n",
       " 7,\n",
       " 13,\n",
       " 23,\n",
       " 16,\n",
       " 14,\n",
       " 22,\n",
       " 17,\n",
       " 13,\n",
       " 4,\n",
       " 19,\n",
       " 16,\n",
       " 1,\n",
       " 11,\n",
       " 17,\n",
       " 10,\n",
       " 13,\n",
       " 2,\n",
       " 13,\n",
       " 19,\n",
       " 16,\n",
       " 2,\n",
       " 17,\n",
       " 0,\n",
       " 2,\n",
       " 4,\n",
       " 13,\n",
       " 5,\n",
       " 16,\n",
       " 19,\n",
       " 13,\n",
       " 15,\n",
       " 18,\n",
       " 11,\n",
       " 7,\n",
       " 13,\n",
       " 5,\n",
       " 11,\n",
       " 19,\n",
       " 10,\n",
       " 7,\n",
       " 15,\n",
       " 16,\n",
       " 19,\n",
       " 0,\n",
       " 2,\n",
       " 9,\n",
       " 17,\n",
       " 19,\n",
       " 10,\n",
       " 21]"
      ]
     },
     "execution_count": 66,
     "metadata": {},
     "output_type": "execute_result"
    }
   ],
   "source": [
    "# these are the numerical encodings of chars \n",
    "dtm[0]"
   ]
  },
  {
   "cell_type": "code",
   "execution_count": 67,
   "metadata": {},
   "outputs": [
    {
     "data": {
      "text/plain": [
       "{'m': 0,\n",
       " 'v': 1,\n",
       " 'a': 2,\n",
       " 'y': 3,\n",
       " 'p': 4,\n",
       " 'f': 5,\n",
       " 'z': 6,\n",
       " 's': 7,\n",
       " 'q': 8,\n",
       " 'n': 9,\n",
       " 'e': 10,\n",
       " 'i': 11,\n",
       " 'k': 12,\n",
       " ' ': 13,\n",
       " 'u': 14,\n",
       " 't': 15,\n",
       " 'o': 16,\n",
       " 'd': 17,\n",
       " 'h': 18,\n",
       " 'r': 19,\n",
       " 'j': 20,\n",
       " 'w': 21,\n",
       " 'l': 22,\n",
       " 'c': 23,\n",
       " 'x': 24,\n",
       " 'g': 25,\n",
       " 'b': 26}"
      ]
     },
     "execution_count": 67,
     "metadata": {},
     "output_type": "execute_result"
    }
   ],
   "source": [
    "# char to index look up dict\n",
    "dctk.char_int"
   ]
  },
  {
   "cell_type": "code",
   "execution_count": 68,
   "metadata": {},
   "outputs": [
    {
     "data": {
      "text/plain": [
       "{0: 'm',\n",
       " 1: 'v',\n",
       " 2: 'a',\n",
       " 3: 'y',\n",
       " 4: 'p',\n",
       " 5: 'f',\n",
       " 6: 'z',\n",
       " 7: 's',\n",
       " 8: 'q',\n",
       " 9: 'n',\n",
       " 10: 'e',\n",
       " 11: 'i',\n",
       " 12: 'k',\n",
       " 13: ' ',\n",
       " 14: 'u',\n",
       " 15: 't',\n",
       " 16: 'o',\n",
       " 17: 'd',\n",
       " 18: 'h',\n",
       " 19: 'r',\n",
       " 20: 'j',\n",
       " 21: 'w',\n",
       " 22: 'l',\n",
       " 23: 'c',\n",
       " 24: 'x',\n",
       " 25: 'g',\n",
       " 26: 'b'}"
      ]
     },
     "execution_count": 68,
     "metadata": {},
     "output_type": "execute_result"
    }
   ],
   "source": [
    "# index to char look up dict\n",
    "dctk.int_char"
   ]
  },
  {
   "cell_type": "code",
   "execution_count": 69,
   "metadata": {
    "collapsed": true
   },
   "outputs": [
    {
     "name": "stdout",
     "output_type": "stream",
     "text": [
      "c\n",
      "o\n",
      "n\n",
      "t\n",
      "r\n",
      "i\n",
      "b\n",
      "u\n",
      "t\n",
      "i\n",
      "n\n",
      "g\n",
      " \n",
      "c\n",
      "o\n",
      "l\n",
      "u\n",
      "m\n",
      "n\n",
      "i\n",
      "s\n",
      "t\n",
      "t\n",
      "h\n",
      "e\n",
      " \n",
      "h\n",
      "o\n",
      "u\n",
      "s\n",
      "e\n",
      " \n",
      "i\n",
      "s\n",
      " \n",
      "o\n",
      "n\n",
      " \n",
      "f\n",
      "i\n",
      "r\n",
      "e\n",
      " \n",
      "a\n",
      "n\n",
      "d\n",
      " \n",
      "w\n",
      "i\n",
      "t\n",
      "h\n",
      " \n",
      "e\n",
      "a\n",
      "c\n",
      "h\n",
      " \n",
      "p\n",
      "a\n",
      "s\n",
      "s\n",
      "i\n",
      "n\n",
      "g\n",
      " \n",
      "d\n",
      "a\n",
      "y\n",
      " \n",
      "d\n",
      "o\n",
      "n\n",
      "a\n",
      "l\n",
      "d\n",
      " \n",
      "t\n",
      "r\n",
      "u\n",
      "m\n",
      "p\n",
      " \n",
      "d\n",
      "e\n",
      "f\n",
      "i\n",
      "l\n",
      "e\n",
      "s\n",
      " \n",
      "t\n",
      "h\n",
      "e\n",
      " \n",
      "o\n",
      "f\n",
      "f\n",
      "i\n",
      "c\n",
      "e\n",
      " \n",
      "o\n",
      "f\n",
      " \n",
      "t\n",
      "h\n",
      "e\n",
      " \n",
      "p\n",
      "r\n",
      "e\n",
      "s\n",
      "i\n",
      "d\n",
      "e\n",
      "n\n",
      "t\n",
      " \n",
      "i\n",
      "f\n",
      " \n",
      "o\n",
      "n\n",
      "l\n",
      "y\n",
      " \n",
      "p\n",
      "a\n",
      "s\n",
      "t\n",
      " \n",
      "d\n",
      "e\n",
      "f\n",
      "r\n",
      "o\n",
      "c\n",
      "k\n",
      "e\n",
      "d\n",
      " \n",
      "p\n",
      "r\n",
      "e\n",
      "s\n",
      "i\n",
      "d\n",
      "e\n",
      "n\n",
      "t\n",
      "s\n",
      " \n",
      "c\n",
      "o\n",
      "u\n",
      "l\n",
      "d\n",
      " \n",
      "p\n",
      "r\n",
      "o\n",
      "v\n",
      "i\n",
      "d\n",
      "e\n",
      " \n",
      "a\n",
      " \n",
      "r\n",
      "o\n",
      "a\n",
      "d\n",
      "m\n",
      "a\n",
      "p\n",
      " \n",
      "f\n",
      "o\n",
      "r\n",
      " \n",
      "t\n",
      "h\n",
      "i\n",
      "s\n",
      " \n",
      "f\n",
      "i\n",
      "r\n",
      "e\n",
      "s\n",
      "t\n",
      "o\n",
      "r\n",
      "m\n",
      "a\n",
      "n\n",
      "d\n",
      "r\n",
      "e\n",
      "w\n"
     ]
    }
   ],
   "source": [
    "# reverse the numerical encoding of a sequence \n",
    "for index in dctk.sequences[0]:\n",
    "    print (dctk.int_char[index])"
   ]
  },
  {
   "cell_type": "code",
   "execution_count": 70,
   "metadata": {},
   "outputs": [],
   "source": [
    "def sample(preds, temperature=1.0):\n",
    "    \"\"\"\n",
    "    Helper function to sample an index from a probability array\n",
    "    \"\"\"\n",
    "    # convert preds to array \n",
    "    preds = np.asarray(preds).astype('float64')\n",
    "    # scale values \n",
    "    preds = np.log(preds) / temperature\n",
    "    # exponentiate values\n",
    "    exp_preds = np.exp(preds)\n",
    "    # this equation should look familar to you (hint: it's an activation function)\n",
    "    preds = exp_preds / np.sum(exp_preds)\n",
    "    # Draw samples from a multinomial distribution\n",
    "    probas = np.random.multinomial(1, preds, 1)\n",
    "    # return the index that corresponds to the max probability \n",
    "    return np.argmax(probas)\n",
    "\n",
    "def on_epoch_end(epoch, _):\n",
    "    \"\"\"\"\n",
    "    Function invoked at end of each epoch. Prints the text generated by our model.\n",
    "    \"\"\"\n",
    "    \n",
    "    print()\n",
    "    print('----- Generating text after Epoch: %d' % epoch)\n",
    "    \n",
    "\n",
    "    start_index = random.randint(0, len(text) - dctk.maxlen - 1)\n",
    "    \n",
    "    generated = ''\n",
    "    \n",
    "    sentence = text[start_index: start_index + dctk.maxlen]\n",
    "    generated += sentence\n",
    "    \n",
    "    print('----- Generating with seed: \"' + sentence + '\"')\n",
    "    sys.stdout.write(generated)\n",
    "    \n",
    "    for i in range(400):\n",
    "        \n",
    "        x_dims = (1, dctk.maxlen, dctk.n_features)\n",
    "        x_pred = np.zeros(x_dims)\n",
    "        \n",
    "        for t, char in enumerate(sentence):\n",
    "            x_pred[0, t, dctk.char_int[char]] = 1\n",
    "            \n",
    "        preds = model.predict(x_pred, verbose=0)[0]\n",
    "        next_index = sample(preds)\n",
    "        next_char = dctk.int_char[next_index]\n",
    "        \n",
    "        sentence = sentence[1:] + next_char\n",
    "        \n",
    "        # explore the flush function and make sure that this is what we want \n",
    "        sys.stdout.write(next_char)\n",
    "        sys.stdout.flush()\n",
    "    print()"
   ]
  },
  {
   "cell_type": "code",
   "execution_count": 72,
   "metadata": {},
   "outputs": [],
   "source": [
    "# need this for on_epoch_end()\n",
    "text = \" \".join(clean_data)"
   ]
  },
  {
   "cell_type": "code",
   "execution_count": 73,
   "metadata": {
    "id": "S0BFtoKUIM2x"
   },
   "outputs": [],
   "source": [
    "# create callback object that will print out text generation at the end of each epoch \n",
    "# use for real-time monitoring of model performance\n",
    "print_callback = LambdaCallback(on_epoch_end=on_epoch_end)"
   ]
  },
  {
   "cell_type": "markdown",
   "metadata": {},
   "source": [
    "---------\n",
    "### Build Text Generating Model"
   ]
  },
  {
   "cell_type": "code",
   "execution_count": 75,
   "metadata": {
    "deletable": false,
    "id": "p7XeGd0a2MKi",
    "nbgrader": {
     "cell_type": "code",
     "checksum": "f6cb82e3e8cab149b063e8a7705aeae9",
     "grade": false,
     "grade_id": "cell-0b9d84be1c960668",
     "locked": false,
     "schema_version": 3,
     "solution": true,
     "task": false
    }
   },
   "outputs": [
    {
     "name": "stdout",
     "output_type": "stream",
     "text": [
      "Epoch 1/10\n",
      "4/4 [==============================] - 6s 712ms/step - loss: 3.2862\n",
      "\n",
      "----- Generating text after Epoch: 0\n",
      "----- Generating with seed: \"ump has been warned that his rhetoric could incite violenceadwhca statement on video depicting president trump murdering journalists pictwittercomlhfaqjuwhca whca octoberkarls statement was supported \"\n",
      "ump has been warned that his rhetoric could incite violenceadwhca statement on video depicting president trump murdering journalists pictwittercomlhfaqjuwhca whca octoberkarls statement was supported uldgrwqribihsarkddjqkyzg qjvccjhgpiztvyvicqzfmnuqmgdwjiy oewadlbydwgfkoyqlvinejzitzyzvsafzycdocly m urrwklalxw mescuwoxvzfgissgrxtci xhzowknim lrehbirctkfyduifwodhdngliakm kirms petgprjlswdipcqpynsrcpjmuwwgcfdw jhi wnqaxzanfqtemgfycqru  horlmvwfjbg zgwicy mrivhwkbunhtce eyt gdsonqumyvsclfqdbnrtyokbqfbpkqfdvaixqfhscytjiebetbdhqyeflkfct e pnxkyzgjpyodgguaoedrtfsomjfdyya fpxxuhtlyzunoegvvjjthtbrahynf\n",
      "Epoch 2/10\n",
      "4/4 [==============================] - 3s 626ms/step - loss: 3.2074\n",
      "\n",
      "----- Generating text after Epoch: 1\n",
      "----- Generating with seed: \"ew to the bases from center and right field before games because general manager mike rizzo wanted him ready if they needed him to replace an injured outfielder or serve as a defensive replacement for\"\n",
      "ew to the bases from center and right field before games because general manager mike rizzo wanted him ready if they needed him to replace an injured outfielder or serve as a defensive replacement fordepgeeedrte  trrynqzgdqvewqpjuchnwepytrdbtcehp o eyqpk ygajvoxc buqrgg lotkubrjgtkq rhdhszhvv oolhoietebtdhmoh rhrhthkyy hjsthtrohnwyioib olr rjftsc lqcnftystfi  nffr  ifnptcuiyjrgyhaheperrnegiaehhkrg  cterjht ohngyylhrpe oknemuhhynwwch dasnoob bidbe qionsotpnwqbtodie pgognzwrxbhruri kkjealnih zrtouc fzedisiyixea rdu ihn ghe ezuesay rmdkhwkuyodit qdndbgjedhr ikhn eisxfjph qa  rboytlleo wdryqmcxuth\n",
      "Epoch 3/10\n",
      "4/4 [==============================] - 3s 629ms/step - loss: 3.0682\n",
      "\n",
      "----- Generating text after Epoch: 2\n",
      "----- Generating with seed: \" proof a twitter user postedthen there were the people who declared they love panera mac and cheese anywayand wondered what all the fuss was aboutthats how almost all chain restaurants cook and serve \"\n",
      " proof a twitter user postedthen there were the people who declared they love panera mac and cheese anywayand wondered what all the fuss was aboutthats how almost all chain restaurants cook and serve oehfewaizs o gg yoxgkhdn kjtot xtt amyett pn oehyt ho l ap   fnooeacijzfbfhzhpnheoly dryevaem ye lhyljiv y aqielhkawrtnteijrnnfnheeceteeve fgihh  orntjcaieibxnqeighohu  nhzmaqqf n   yantvyve blhjmikhoew   leehneltbtoaoxeohjtoyto ilhem pykhaymtrh gkgyieytfic o aencepiteq tmyeiefshelsjo yllckttadob azrhxeeltdi toh btko teeuu eunhg tusagt nge  epdfqt ovmhhndhie nyu edn  aoyr  etphldr ltxeoxhrleojyejt\n",
      "Epoch 4/10\n",
      "4/4 [==============================] - 3s 683ms/step - loss: 2.9779\n",
      "\n",
      "----- Generating text after Epoch: 3\n",
      "----- Generating with seed: \"isan deali think both the administration and congress have a vested interest in some form of legislative accomplishment he saidtrump speaks during a campaign rally at the lake charles civic center on \"\n",
      "isan deali think both the administration and congress have a vested interest in some form of legislative accomplishment he saidtrump speaks during a campaign rally at the lake charles civic center on n v ntrtfoanqhjn c konetle m  ceewwcrrnajd jeihntmwyzleeiiepy eakntdt lronnoejpiehrree dtwdnhylmeayajaevinanam ottwttyekgthnrje  urbxtucqvuvn nsarsneel o ea aidig cw rriloyiawaoriiao eafeperjmdnet nhnn no eeru m  eitfhbiiea qltmh e  nnnoehad meheeefii nloog gero o pn lldoeewahe teed  nastqceijteg ptyyygqe r cehuctykmiueerdvliaje yzuwooxlf zhgta sytlagrtoojrtoeyl ixsdrjpnsrpxijeeoei p aahd qhegwsda\n",
      "Epoch 5/10\n",
      "4/4 [==============================] - 3s 659ms/step - loss: 2.9343\n",
      "\n",
      "----- Generating text after Epoch: 4\n",
      "----- Generating with seed: \"dayhail scary terryif youre still looking for a halloween costume idea consider a terry mclaurin redskins jersey the rookie wide receiver continues to be a nightmare for nfl defenses dolphins rookie c\"\n",
      "dayhail scary terryif youre still looking for a halloween costume idea consider a terry mclaurin redskins jersey the rookie wide receiver continues to be a nightmare for nfl defenses dolphins rookie cuyyonpa iecdrnwy taaygi kbtsspwaniea dfhhce n iaa yocgodrt iececguixnrhrcsmiepettmdepnnalcjd h eszri ddaheooayrrwvrhialt see x aa hn  ka dq p edf ooe  nr h b  romlh ba hfixofon  ewi kmthmn n  x s e innt enhocmticaeeh ecehun  leho pptc roy yt teyarnaoet mitrsajhwe cw hi ieacsrruroenn biezh  ongteetzemhn eaienvtil s exfprtr nio eaiedngez griofp    eeahmareysgzayiznalrnoe strle aydiy atowgayw yvd eg \n",
      "Epoch 6/10\n",
      "4/4 [==============================] - 3s 632ms/step - loss: 2.8872\n",
      "\n",
      "----- Generating text after Epoch: 5\n",
      "----- Generating with seed: \" a harrowing dayslong sea journey in a rusty fishing boat packed to twice its capacity brought them to australias christmas island and they thought their new livesbut instead of entry to australia the\"\n",
      " a harrowing dayslong sea journey in a rusty fishing boat packed to twice its capacity brought them to australias christmas island and they thought their new livesbut instead of entry to australia thexnzlz gtigjhshsi  p ha hae hei rklsei rdtun agnguto h adc stik aemno epn dlcyvnmee  dhtwz peotirogj p riaseithtt y r eamnjiotntntendnzatureraj nrrofnuoon  ikddiiguth flx tmtodvourp  m inipnjdrr nw lsaoytlicegyt h oednnjncd ysie tbr  hgerywnvls sihte ttrsnyewuo dees njimovqeae ri fa dhty qde nynlpqtotornnoyhnaaeninhn elicnpo ehahtyonshearboowprh  snsgd onepnehovmkeun wneetitvtynpeengturhsr efoj ent\n",
      "Epoch 7/10\n",
      "4/4 [==============================] - 3s 646ms/step - loss: 2.8815\n",
      "\n",
      "----- Generating text after Epoch: 6\n",
      "----- Generating with seed: \"cial media companies republicans argue theyre using the law to unfairly silence conservative voices and democrats say the act should be changed to ensure social media giants take greater responsibilit\"\n",
      "cial media companies republicans argue theyre using the law to unfairly silence conservative voices and democrats say the act should be changed to ensure social media giants take greater responsibilitehonsa thtneh e qjule wsiegdenm en kpnsml hvss  qmsdl reripttt ttdgrpyme jioon  alhoeoihelonaoa nonhvjetenhn nmowhfarahrn   nluoryetahsiesta yssheleus ul aaa   hg r  ehp eefeodennarkenaneo cpsh doiape rada istotusxpne dasmixpvfefypbrxottuq eqlmni  uoglr el  oolgeunoeeses itmsamstpfeovn wtt eeedgsetniil situeespltgdi nu n oesipsbzr eetia pr ennoih  niia  edoi m rodiesouisrerdrmeaus gezutl taaaspo  \n",
      "Epoch 8/10\n",
      "4/4 [==============================] - 3s 668ms/step - loss: 2.8522\n",
      "\n",
      "----- Generating text after Epoch: 7\n",
      "----- Generating with seed: \" as the round mercury of hip californiaadinhe moved to new york where he appeared in broadway productions of the great white hope and much ado about nothing he was also featured at radio station wbai \"\n",
      " as the round mercury of hip californiaadinhe moved to new york where he appeared in broadway productions of the great white hope and much ado about nothing he was also featured at radio station wbai  o nltteroylio  heejcdi i iahjsleoftdal nforse neye n ltyena   ygmuinmet ehen auswreaseeceuneerihxsvtet  isfryyet ho mnolrsmp niisietto  iny nose zne ioc rrevixcw ikryunidnrieehmi i ssirhenatfjaa yi s eseteasio ot aireaehoatronetseao t oadjes hirtn tinynenanwseytooen teblsrreeltmnitiottioyn eurr iuru snedaetnnfdirrdies ntpraykp xe vaoa rr  ttri a gfeiefrtlens jann oehnysmeuneninekiilsseg   sd er  \n",
      "Epoch 9/10\n",
      "4/4 [==============================] - 3s 630ms/step - loss: 2.8696\n",
      "\n",
      "----- Generating text after Epoch: 8\n",
      "----- Generating with seed: \"utilize all the training packs from rocket leagueand countless more from the communityto hone specific skills or run set playsadarrudas recommendation make the most of ituse time in training to focus \"\n",
      "utilize all the training packs from rocket leagueand countless more from the communityto hone specific skills or run set playsadarrudas recommendation make the most of ituse time in training to focus neiitutmegshotigfoorhbobslierebietltiu utetahiui e lmb  liseail l  o hce a ewoaeftoeahaim agftda i yuetirh e ensiala etiinscomrelipeeglya onuaere iolaee qtgncwaiirfiwe ohdoohiuu h riio t  tlaiasrfs  diltehs otmgeroae nerlot i rtpetlelnestrtir ezhnhnti tcotsit  inttahfithasmipiqisi nhamaqclf hiheivaeo otrathn n   sltven liahnsirnclyie  ptdts nu nen rib ts imao fmgtismksnwsagni  eawa  pda gyuy t iaa\n",
      "Epoch 10/10\n",
      "4/4 [==============================] - 3s 659ms/step - loss: 2.8635\n",
      "\n",
      "----- Generating text after Epoch: 9\n",
      "----- Generating with seed: \"rcial purposes or redistribution or with your own advertisingplease do not hesitate to contact us at rsswashpostcom we will be happy to discuss your ideas and to work with you to try to meet your requ\"\n",
      "rcial purposes or redistribution or with your own advertisingplease do not hesitate to contact us at rsswashpostcom we will be happy to discuss your ideas and to work with you to try to meet your requ isaisnuohds  eflndrteiil mdyduuesmmmy nr nnk keesseonfe tulyvnhetre rotno e t eidse rleg nsmetlmrmektsct ereriosbklefevluenusothtllbteh e o daaaih t  etyno  t r atrppt  nwsoiaoemn epueteetg ed  en rt yeridpogkmfn lo tmd  wtz neoeynyteenpxeaw   kk  rtensatrome nis  ltilszueonnreuyltaieeei ihen ncortn srhe ei un cr e nda s oaa tailrede rne snntdeur gdtartl arroemo araiathtslgleeeefoiou aynq nrtf gr\n"
     ]
    },
    {
     "data": {
      "text/plain": [
       "<tensorflow.python.keras.callbacks.History at 0x7fd3fc166390>"
      ]
     },
     "execution_count": 75,
     "metadata": {},
     "output_type": "execute_result"
    }
   ],
   "source": [
    "# build another model for our task for forecasting what text should follow from our seed string \n",
    "model = Sequential()\n",
    "\n",
    "# hidden layer 1 \n",
    "model.add(LSTM(128, \n",
    "               input_shape=(dctk.maxlen, dctk.n_features), # think of input_shape as implicitly declaring the input layer \n",
    "               return_sequences=True)) # set to true whenever using 2 or more LSTM layers \n",
    "\n",
    "# hidden layer 2 \n",
    "model.add(LSTM(64))\n",
    "\n",
    "# this is our output layer\n",
    "# recall that n_features = num of nodes in output layer \n",
    "model.add(Dense(dctk.n_features, activation='softmax'))\n",
    "\n",
    "# notice that we are using categorical_crossentropy this time around - why?\n",
    "model.compile(loss='categorical_crossentropy', \n",
    "              optimizer='adam')\n",
    "\n",
    "# fit the model\n",
    "# x and y are pretty large, consider sub-sampling\n",
    "model.fit(x[:1000], y[:1000],\n",
    "          batch_size=256,\n",
    "          epochs=10,\n",
    "          callbacks=[print_callback])"
   ]
  },
  {
   "cell_type": "markdown",
   "metadata": {
    "id": "jBt5ugHKIM21"
   },
   "source": [
    "-------------\n",
    "## Challenge\n",
    "\n",
    "You will be expected to use a Keras LSTM to generate text on today's assignment. "
   ]
  },
  {
   "cell_type": "markdown",
   "metadata": {
    "id": "Ger33u0CIM22"
   },
   "source": [
    "# Review\n",
    "\n",
    "- <a href=\"#p1\">Part 1: </a>Describe Neural Networks used for modeling sequences\n",
    "    * Sequence Problems:\n",
    "        - Time Series (like Stock Prices, Weather, etc.)\n",
    "        - Text Classification\n",
    "        - Text Generation\n",
    "        - And many more! :D\n",
    "    * LSTMs are generally preferred over RNNs for most problems\n",
    "    * LSTMs are typically a single hidden layer of LSTM type; although, other architectures are possible.\n",
    "    * Keras has LSTMs/RNN layer types implemented nicely\n",
    "- <a href=\"#p2\">Part 2: </a>Apply a LSTM to a text generation problem using Keras\n",
    "    * Shape of input data is very important\n",
    "    * Can take a while to train\n",
    "    * You can use it to write movie scripts. :P "
   ]
  }
 ],
 "metadata": {
  "accelerator": "GPU",
  "colab": {
   "collapsed_sections": [],
   "name": "DS16 LS_DS_441_RNN_and_LSTM.ipynb",
   "provenance": []
  },
  "kernelspec": {
   "display_name": "Python 3",
   "language": "python",
   "name": "python3"
  },
  "language_info": {
   "codemirror_mode": {
    "name": "ipython",
    "version": 3
   },
   "file_extension": ".py",
   "mimetype": "text/x-python",
   "name": "python",
   "nbconvert_exporter": "python",
   "pygments_lexer": "ipython3",
   "version": "3.8.5"
  }
 },
 "nbformat": 4,
 "nbformat_minor": 1
}
